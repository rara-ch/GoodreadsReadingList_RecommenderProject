{
 "cells": [
  {
   "cell_type": "markdown",
   "id": "3db002bf-07ef-4cea-97d2-d8f5a552552f",
   "metadata": {},
   "source": [
    "# Goodreads Reading List Recommender Project (Recommender)"
   ]
  },
  {
   "cell_type": "code",
   "execution_count": 1,
   "id": "e417f34a-5596-41ce-833e-d1fea1a8c92f",
   "metadata": {},
   "outputs": [],
   "source": [
    "# Import basic data libraries\n",
    "import numpy as np\n",
    "import pandas as pd\n",
    "import matplotlib.pyplot as plt\n",
    "import seaborn as sns\n",
    "\n",
    "# Import other functions\n",
    "from sklearn.preprocessing import MinMaxScaler\n",
    "from sklearn.metrics.pairwise import cosine_similarity\n",
    "from sklearn.feature_extraction.text import TfidfVectorizer\n",
    "\n",
    "# Import helper functions from functions.py\n",
    "import functions"
   ]
  },
  {
   "cell_type": "code",
   "execution_count": 2,
   "id": "88448fcb-84a4-41f0-9378-a71216de234c",
   "metadata": {},
   "outputs": [],
   "source": [
    "# Use this cell to toggle between setting display.max_colwidth to None and resetting it\n",
    "\n",
    "# Set max column width to None (no limit) so that I can see the whole text\n",
    "# pd.set_option('display.max_colwidth', None)\n",
    "\n",
    "# Reset the max column width so the pd.DataFrame is more compact\n",
    "pd.reset_option('display.max_colwidth')"
   ]
  },
  {
   "cell_type": "markdown",
   "id": "8aaac7d8-f013-4547-8a03-dfecd944f550",
   "metadata": {},
   "source": [
    "## Importing and Inspecting"
   ]
  },
  {
   "cell_type": "code",
   "execution_count": 3,
   "id": "99bdcaba-b5fb-4bc4-b106-c3dc21a61693",
   "metadata": {},
   "outputs": [
    {
     "name": "stdout",
     "output_type": "stream",
     "text": [
      "(13525, 20)\n"
     ]
    },
    {
     "data": {
      "text/html": [
       "<div>\n",
       "<style scoped>\n",
       "    .dataframe tbody tr th:only-of-type {\n",
       "        vertical-align: middle;\n",
       "    }\n",
       "\n",
       "    .dataframe tbody tr th {\n",
       "        vertical-align: top;\n",
       "    }\n",
       "\n",
       "    .dataframe thead th {\n",
       "        text-align: right;\n",
       "    }\n",
       "</style>\n",
       "<table border=\"1\" class=\"dataframe\">\n",
       "  <thead>\n",
       "    <tr style=\"text-align: right;\">\n",
       "      <th></th>\n",
       "      <th>work_id</th>\n",
       "      <th>isbn</th>\n",
       "      <th>isbn13</th>\n",
       "      <th>original_title</th>\n",
       "      <th>author</th>\n",
       "      <th>original_publication_year</th>\n",
       "      <th>num_pages</th>\n",
       "      <th>description</th>\n",
       "      <th>image_url</th>\n",
       "      <th>reviews_count</th>\n",
       "      <th>text_reviews_count</th>\n",
       "      <th>5_star_ratings</th>\n",
       "      <th>4_star_ratings</th>\n",
       "      <th>3_star_ratings</th>\n",
       "      <th>2_star_ratings</th>\n",
       "      <th>1_star_ratings</th>\n",
       "      <th>ratings_count</th>\n",
       "      <th>avg_rating</th>\n",
       "      <th>avg_days_to_finish</th>\n",
       "      <th>description_clean</th>\n",
       "    </tr>\n",
       "  </thead>\n",
       "  <tbody>\n",
       "    <tr>\n",
       "      <th>0</th>\n",
       "      <td>2919130</td>\n",
       "      <td>1416534601</td>\n",
       "      <td>9781416534600</td>\n",
       "      <td>Nocturnes</td>\n",
       "      <td>John Connolly</td>\n",
       "      <td>2004.0</td>\n",
       "      <td>NaN</td>\n",
       "      <td>NaN</td>\n",
       "      <td>https://s.gr-assets.com/assets/nophoto/book/11...</td>\n",
       "      <td>8820</td>\n",
       "      <td>338</td>\n",
       "      <td>1118</td>\n",
       "      <td>1601</td>\n",
       "      <td>1029</td>\n",
       "      <td>190</td>\n",
       "      <td>58</td>\n",
       "      <td>3996</td>\n",
       "      <td>3.9</td>\n",
       "      <td>18.0</td>\n",
       "      <td></td>\n",
       "    </tr>\n",
       "    <tr>\n",
       "      <th>1</th>\n",
       "      <td>52087333</td>\n",
       "      <td>NaN</td>\n",
       "      <td>NaN</td>\n",
       "      <td>Draw Play</td>\n",
       "      <td>Tia Lewis</td>\n",
       "      <td>2016.0</td>\n",
       "      <td>NaN</td>\n",
       "      <td>Jake:\\nI can't believe my coach assigned me a ...</td>\n",
       "      <td>https://s.gr-assets.com/assets/nophoto/book/11...</td>\n",
       "      <td>2482</td>\n",
       "      <td>204</td>\n",
       "      <td>204</td>\n",
       "      <td>353</td>\n",
       "      <td>274</td>\n",
       "      <td>77</td>\n",
       "      <td>29</td>\n",
       "      <td>937</td>\n",
       "      <td>3.7</td>\n",
       "      <td>4.0</td>\n",
       "      <td>jakei not believe coach assign tutor m field s...</td>\n",
       "    </tr>\n",
       "  </tbody>\n",
       "</table>\n",
       "</div>"
      ],
      "text/plain": [
       "    work_id        isbn         isbn13 original_title         author  \\\n",
       "0   2919130  1416534601  9781416534600      Nocturnes  John Connolly   \n",
       "1  52087333         NaN            NaN      Draw Play      Tia Lewis   \n",
       "\n",
       "   original_publication_year  num_pages  \\\n",
       "0                     2004.0        NaN   \n",
       "1                     2016.0        NaN   \n",
       "\n",
       "                                         description  \\\n",
       "0                                                NaN   \n",
       "1  Jake:\\nI can't believe my coach assigned me a ...   \n",
       "\n",
       "                                           image_url  reviews_count  \\\n",
       "0  https://s.gr-assets.com/assets/nophoto/book/11...           8820   \n",
       "1  https://s.gr-assets.com/assets/nophoto/book/11...           2482   \n",
       "\n",
       "   text_reviews_count  5_star_ratings  4_star_ratings  3_star_ratings  \\\n",
       "0                 338            1118            1601            1029   \n",
       "1                 204             204             353             274   \n",
       "\n",
       "   2_star_ratings  1_star_ratings  ratings_count  avg_rating  \\\n",
       "0             190              58           3996         3.9   \n",
       "1              77              29            937         3.7   \n",
       "\n",
       "   avg_days_to_finish                                  description_clean  \n",
       "0                18.0                                                     \n",
       "1                 4.0  jakei not believe coach assign tutor m field s...  "
      ]
     },
     "execution_count": 3,
     "metadata": {},
     "output_type": "execute_result"
    }
   ],
   "source": [
    "# Read in the cleaned books table\n",
    "books = pd.read_pickle('../Data/books.pkl')\n",
    "\n",
    "# Look at the shape of the books table\n",
    "print(books.shape)\n",
    "\n",
    "# Look at the head of the books table\n",
    "books.head(2)"
   ]
  },
  {
   "cell_type": "code",
   "execution_count": 4,
   "id": "1e93e42b-ec16-44c4-8748-76fc79edd598",
   "metadata": {},
   "outputs": [
    {
     "name": "stdout",
     "output_type": "stream",
     "text": [
      "(13525, 16)\n"
     ]
    },
    {
     "data": {
      "text/html": [
       "<div>\n",
       "<style scoped>\n",
       "    .dataframe tbody tr th:only-of-type {\n",
       "        vertical-align: middle;\n",
       "    }\n",
       "\n",
       "    .dataframe tbody tr th {\n",
       "        vertical-align: top;\n",
       "    }\n",
       "\n",
       "    .dataframe thead th {\n",
       "        text-align: right;\n",
       "    }\n",
       "</style>\n",
       "<table border=\"1\" class=\"dataframe\">\n",
       "  <thead>\n",
       "    <tr style=\"text-align: right;\">\n",
       "      <th></th>\n",
       "      <th>biography</th>\n",
       "      <th>children</th>\n",
       "      <th>comics</th>\n",
       "      <th>crime</th>\n",
       "      <th>fantasy</th>\n",
       "      <th>fiction</th>\n",
       "      <th>graphic</th>\n",
       "      <th>historical fiction</th>\n",
       "      <th>history</th>\n",
       "      <th>mystery</th>\n",
       "      <th>non-fiction</th>\n",
       "      <th>paranormal</th>\n",
       "      <th>poetry</th>\n",
       "      <th>romance</th>\n",
       "      <th>thriller</th>\n",
       "      <th>young-adult</th>\n",
       "    </tr>\n",
       "    <tr>\n",
       "      <th>work_id</th>\n",
       "      <th></th>\n",
       "      <th></th>\n",
       "      <th></th>\n",
       "      <th></th>\n",
       "      <th></th>\n",
       "      <th></th>\n",
       "      <th></th>\n",
       "      <th></th>\n",
       "      <th></th>\n",
       "      <th></th>\n",
       "      <th></th>\n",
       "      <th></th>\n",
       "      <th></th>\n",
       "      <th></th>\n",
       "      <th></th>\n",
       "      <th></th>\n",
       "    </tr>\n",
       "  </thead>\n",
       "  <tbody>\n",
       "    <tr>\n",
       "      <th>104</th>\n",
       "      <td>1</td>\n",
       "      <td>0</td>\n",
       "      <td>0</td>\n",
       "      <td>0</td>\n",
       "      <td>0</td>\n",
       "      <td>1</td>\n",
       "      <td>0</td>\n",
       "      <td>1</td>\n",
       "      <td>1</td>\n",
       "      <td>0</td>\n",
       "      <td>1</td>\n",
       "      <td>0</td>\n",
       "      <td>0</td>\n",
       "      <td>1</td>\n",
       "      <td>0</td>\n",
       "      <td>0</td>\n",
       "    </tr>\n",
       "    <tr>\n",
       "      <th>114</th>\n",
       "      <td>1</td>\n",
       "      <td>0</td>\n",
       "      <td>0</td>\n",
       "      <td>0</td>\n",
       "      <td>1</td>\n",
       "      <td>1</td>\n",
       "      <td>0</td>\n",
       "      <td>1</td>\n",
       "      <td>1</td>\n",
       "      <td>0</td>\n",
       "      <td>0</td>\n",
       "      <td>1</td>\n",
       "      <td>0</td>\n",
       "      <td>1</td>\n",
       "      <td>0</td>\n",
       "      <td>0</td>\n",
       "    </tr>\n",
       "  </tbody>\n",
       "</table>\n",
       "</div>"
      ],
      "text/plain": [
       "         biography  children  comics  crime  fantasy  fiction  graphic  \\\n",
       "work_id                                                                  \n",
       "104              1         0       0      0        0        1        0   \n",
       "114              1         0       0      0        1        1        0   \n",
       "\n",
       "         historical fiction  history  mystery  non-fiction  paranormal  \\\n",
       "work_id                                                                  \n",
       "104                       1        1        0            1           0   \n",
       "114                       1        1        0            0           1   \n",
       "\n",
       "         poetry  romance  thriller  young-adult  \n",
       "work_id                                          \n",
       "104           0        1         0            0  \n",
       "114           0        1         0            0  "
      ]
     },
     "execution_count": 4,
     "metadata": {},
     "output_type": "execute_result"
    }
   ],
   "source": [
    "# Look at the head of the engineered genres table\n",
    "genres = pd.read_pickle('../Data/genres.pkl').set_index('work_id')\n",
    "\n",
    "# Extract the work_id column order for later use\n",
    "work_id = pd.Series(genres.index)\n",
    "\n",
    "# Look at the shape of the genres table\n",
    "print(genres.shape)\n",
    "\n",
    "# Look at the head of the books table\n",
    "genres.head(2)"
   ]
  },
  {
   "cell_type": "code",
   "execution_count": 5,
   "id": "d337a29f-7bce-46eb-9e34-fa54270eca4f",
   "metadata": {},
   "outputs": [
    {
     "name": "stdout",
     "output_type": "stream",
     "text": [
      "(13525, 13525)\n"
     ]
    },
    {
     "data": {
      "text/html": [
       "<div>\n",
       "<style scoped>\n",
       "    .dataframe tbody tr th:only-of-type {\n",
       "        vertical-align: middle;\n",
       "    }\n",
       "\n",
       "    .dataframe tbody tr th {\n",
       "        vertical-align: top;\n",
       "    }\n",
       "\n",
       "    .dataframe thead th {\n",
       "        text-align: right;\n",
       "    }\n",
       "</style>\n",
       "<table border=\"1\" class=\"dataframe\">\n",
       "  <thead>\n",
       "    <tr style=\"text-align: right;\">\n",
       "      <th></th>\n",
       "      <th>104</th>\n",
       "      <th>114</th>\n",
       "      <th>115</th>\n",
       "      <th>423</th>\n",
       "      <th>434</th>\n",
       "      <th>505</th>\n",
       "      <th>696</th>\n",
       "      <th>797</th>\n",
       "      <th>817</th>\n",
       "      <th>860</th>\n",
       "      <th>...</th>\n",
       "      <th>56825332</th>\n",
       "      <th>56847346</th>\n",
       "      <th>56947505</th>\n",
       "      <th>57104739</th>\n",
       "      <th>57400201</th>\n",
       "      <th>57407230</th>\n",
       "      <th>57414860</th>\n",
       "      <th>57438069</th>\n",
       "      <th>57646853</th>\n",
       "      <th>57717521</th>\n",
       "    </tr>\n",
       "  </thead>\n",
       "  <tbody>\n",
       "    <tr>\n",
       "      <th>104</th>\n",
       "      <td>0</td>\n",
       "      <td>0</td>\n",
       "      <td>0</td>\n",
       "      <td>0</td>\n",
       "      <td>0</td>\n",
       "      <td>0</td>\n",
       "      <td>0</td>\n",
       "      <td>0</td>\n",
       "      <td>0</td>\n",
       "      <td>0</td>\n",
       "      <td>...</td>\n",
       "      <td>0</td>\n",
       "      <td>0</td>\n",
       "      <td>0</td>\n",
       "      <td>0</td>\n",
       "      <td>0</td>\n",
       "      <td>0</td>\n",
       "      <td>0</td>\n",
       "      <td>0</td>\n",
       "      <td>0</td>\n",
       "      <td>0</td>\n",
       "    </tr>\n",
       "    <tr>\n",
       "      <th>114</th>\n",
       "      <td>0</td>\n",
       "      <td>0</td>\n",
       "      <td>0</td>\n",
       "      <td>0</td>\n",
       "      <td>0</td>\n",
       "      <td>0</td>\n",
       "      <td>0</td>\n",
       "      <td>0</td>\n",
       "      <td>0</td>\n",
       "      <td>0</td>\n",
       "      <td>...</td>\n",
       "      <td>0</td>\n",
       "      <td>0</td>\n",
       "      <td>0</td>\n",
       "      <td>0</td>\n",
       "      <td>0</td>\n",
       "      <td>0</td>\n",
       "      <td>0</td>\n",
       "      <td>0</td>\n",
       "      <td>0</td>\n",
       "      <td>0</td>\n",
       "    </tr>\n",
       "  </tbody>\n",
       "</table>\n",
       "<p>2 rows × 13525 columns</p>\n",
       "</div>"
      ],
      "text/plain": [
       "     104  114  115  423  434  505  696  797  817  860  ...  56825332  \\\n",
       "104    0    0    0    0    0    0    0    0    0    0  ...         0   \n",
       "114    0    0    0    0    0    0    0    0    0    0  ...         0   \n",
       "\n",
       "     56847346  56947505  57104739  57400201  57407230  57414860  57438069  \\\n",
       "104         0         0         0         0         0         0         0   \n",
       "114         0         0         0         0         0         0         0   \n",
       "\n",
       "     57646853  57717521  \n",
       "104         0         0  \n",
       "114         0         0  \n",
       "\n",
       "[2 rows x 13525 columns]"
      ]
     },
     "execution_count": 5,
     "metadata": {},
     "output_type": "execute_result"
    }
   ],
   "source": [
    "# Read in the similar_books table\n",
    "similar_books = pd.read_pickle('../Data/similar_books.pkl')\n",
    "\n",
    "# Look at the shape of the books table\n",
    "print(similar_books.shape)\n",
    "\n",
    "# Look at the head of the books table\n",
    "similar_books.head(2)"
   ]
  },
  {
   "cell_type": "code",
   "execution_count": 6,
   "id": "b5cb3904-283f-44b8-8990-af5e77c5233c",
   "metadata": {},
   "outputs": [
    {
     "name": "stdout",
     "output_type": "stream",
     "text": [
      "(1143887, 13)\n"
     ]
    },
    {
     "data": {
      "text/html": [
       "<div>\n",
       "<style scoped>\n",
       "    .dataframe tbody tr th:only-of-type {\n",
       "        vertical-align: middle;\n",
       "    }\n",
       "\n",
       "    .dataframe tbody tr th {\n",
       "        vertical-align: top;\n",
       "    }\n",
       "\n",
       "    .dataframe thead th {\n",
       "        text-align: right;\n",
       "    }\n",
       "</style>\n",
       "<table border=\"1\" class=\"dataframe\">\n",
       "  <thead>\n",
       "    <tr style=\"text-align: right;\">\n",
       "      <th></th>\n",
       "      <th>review_id</th>\n",
       "      <th>user_id</th>\n",
       "      <th>work_id</th>\n",
       "      <th>started_at</th>\n",
       "      <th>read_at</th>\n",
       "      <th>date_added</th>\n",
       "      <th>rating</th>\n",
       "      <th>review_text</th>\n",
       "      <th>n_votes</th>\n",
       "      <th>n_comments</th>\n",
       "      <th>days_to_finish</th>\n",
       "      <th>spoiler_text</th>\n",
       "      <th>review_text_sf</th>\n",
       "    </tr>\n",
       "  </thead>\n",
       "  <tbody>\n",
       "    <tr>\n",
       "      <th>0</th>\n",
       "      <td>fa7a00c01296e3b2b2e857d79c51ea77</td>\n",
       "      <td>3693bb4f1062b659a354848cf11ca313</td>\n",
       "      <td>6128277</td>\n",
       "      <td>NaT</td>\n",
       "      <td>NaT</td>\n",
       "      <td>2013-12-21</td>\n",
       "      <td>5.0</td>\n",
       "      <td>Fire is half-human and half monster. Monsters ...</td>\n",
       "      <td>0</td>\n",
       "      <td>0</td>\n",
       "      <td>NaT</td>\n",
       "      <td>NaN</td>\n",
       "      <td>Fire is half-human and half monster. Monsters ...</td>\n",
       "    </tr>\n",
       "    <tr>\n",
       "      <th>1</th>\n",
       "      <td>de0f7c8d15e247443e51969becf2878e</td>\n",
       "      <td>3693bb4f1062b659a354848cf11ca313</td>\n",
       "      <td>3270810</td>\n",
       "      <td>NaT</td>\n",
       "      <td>NaT</td>\n",
       "      <td>2013-12-21</td>\n",
       "      <td>5.0</td>\n",
       "      <td>Katsa is a graceling - blessed with an ability...</td>\n",
       "      <td>0</td>\n",
       "      <td>0</td>\n",
       "      <td>NaT</td>\n",
       "      <td>NaN</td>\n",
       "      <td>Katsa is a graceling - blessed with an ability...</td>\n",
       "    </tr>\n",
       "  </tbody>\n",
       "</table>\n",
       "</div>"
      ],
      "text/plain": [
       "                          review_id                           user_id  \\\n",
       "0  fa7a00c01296e3b2b2e857d79c51ea77  3693bb4f1062b659a354848cf11ca313   \n",
       "1  de0f7c8d15e247443e51969becf2878e  3693bb4f1062b659a354848cf11ca313   \n",
       "\n",
       "   work_id started_at read_at date_added  rating  \\\n",
       "0  6128277        NaT     NaT 2013-12-21     5.0   \n",
       "1  3270810        NaT     NaT 2013-12-21     5.0   \n",
       "\n",
       "                                         review_text  n_votes  n_comments  \\\n",
       "0  Fire is half-human and half monster. Monsters ...        0           0   \n",
       "1  Katsa is a graceling - blessed with an ability...        0           0   \n",
       "\n",
       "  days_to_finish spoiler_text  \\\n",
       "0            NaT          NaN   \n",
       "1            NaT          NaN   \n",
       "\n",
       "                                      review_text_sf  \n",
       "0  Fire is half-human and half monster. Monsters ...  \n",
       "1  Katsa is a graceling - blessed with an ability...  "
      ]
     },
     "execution_count": 6,
     "metadata": {},
     "output_type": "execute_result"
    }
   ],
   "source": [
    "# Read in the reviews table\n",
    "reviews = pd.read_pickle('../Data/reviews.pkl')\n",
    "\n",
    "# Look at the shape of the reviews table\n",
    "print(reviews.shape)\n",
    "\n",
    "# Look at the head of the reviews table\n",
    "reviews.head(2)"
   ]
  },
  {
   "cell_type": "markdown",
   "id": "45591a56-c3c1-4f87-9eaa-ec9bdaaebf1c",
   "metadata": {},
   "source": [
    "## Recommenders"
   ]
  },
  {
   "cell_type": "markdown",
   "id": "ad504257-d6cd-4f29-bb2b-dcbe442d618c",
   "metadata": {},
   "source": [
    "### Content-Based Filtering"
   ]
  },
  {
   "cell_type": "markdown",
   "id": "56f39ee2-b237-4912-ba82-a3813f843874",
   "metadata": {},
   "source": [
    "#### Preprocess Data"
   ]
  },
  {
   "cell_type": "markdown",
   "id": "17e27f0a-bdba-4740-8f19-c98d211053f6",
   "metadata": {},
   "source": [
    "From the EDA section, it was found that original_publication_year and num_pages have extreme outliers. Therefore, I will clip them before scaling to ensure accurate and balanced recommendations."
   ]
  },
  {
   "cell_type": "code",
   "execution_count": 7,
   "id": "2674d800-a8d9-415d-97ab-bc5177c22dc3",
   "metadata": {},
   "outputs": [
    {
     "name": "stdout",
     "output_type": "stream",
     "text": [
      "original_publication_year - 0.01 percentile: 1884.06\n",
      "original_publication_year - 0.05 percentile: 1967.0\n",
      "original_publication_year - 0.25 percentile: 2006.0\n",
      "original_publication_year - 0.5 percentile: 2011.0\n",
      "original_publication_year - 0.75 percentile: 2014.0\n",
      "original_publication_year - 0.95 percentile: 2016.0\n",
      "original_publication_year - 0.99 percentile: 2017.0\n"
     ]
    }
   ],
   "source": [
    "# Check the percentiles for the original_publication_year column since there are outliers\n",
    "functions.get_percentiles(books, 'original_publication_year')"
   ]
  },
  {
   "cell_type": "markdown",
   "id": "b4fe8ada-f134-4c87-bfc3-78803895f66e",
   "metadata": {},
   "source": [
    "------------------------------------------------------------------------------------------------------------------------------"
   ]
  },
  {
   "cell_type": "code",
   "execution_count": 8,
   "id": "52b3c45a-541a-4300-862c-52f5370558db",
   "metadata": {},
   "outputs": [
    {
     "name": "stdout",
     "output_type": "stream",
     "text": [
      "num_pages - 0.01 percentile: 39.94\n",
      "num_pages - 0.05 percentile: 128.0\n",
      "num_pages - 0.25 percentile: 260.0\n",
      "num_pages - 0.5 percentile: 334.0\n",
      "num_pages - 0.75 percentile: 391.0\n",
      "num_pages - 0.95 percentile: 551.2999999999993\n",
      "num_pages - 0.99 percentile: 792.239999999998\n"
     ]
    }
   ],
   "source": [
    "# Check the percentiles for the num_pages column since there are outliers\n",
    "functions.get_percentiles(books, 'num_pages')"
   ]
  },
  {
   "cell_type": "code",
   "execution_count": 9,
   "id": "685480ab-a3ed-4fb2-a01e-f4e4d5797a27",
   "metadata": {},
   "outputs": [],
   "source": [
    "# Create clipped columns of original_publication_year and num_pages to reduce the influence of outliers\n",
    "books['opy_clipped'] = books['original_publication_year'].clip(lower=books['original_publication_year'].quantile(0.05))\n",
    "books['np_clipped'] = books['num_pages'].clip(upper=books['num_pages'].quantile(0.99).round())\n",
    "\n",
    "# Fill the  missing values of the clipped columns with their respective medians of since only <1% and 5% is missing\n",
    "books['np_clipped'] = books['np_clipped'].fillna(books['np_clipped'].median())\n",
    "books['opy_clipped'] = books['opy_clipped'].fillna(books['opy_clipped'].median())"
   ]
  },
  {
   "cell_type": "code",
   "execution_count": 10,
   "id": "7577b2ad-087c-4976-aa52-753e1002344f",
   "metadata": {},
   "outputs": [],
   "source": [
    "# Put the clipped original_publication_year and num_pages columns on a 0-1 scale so it matches the dummy variable scale\n",
    "mms = MinMaxScaler()\n",
    "books_scaled = mms.fit_transform(books[['opy_clipped', 'np_clipped']])\n",
    "books = pd.concat([books, pd.DataFrame(books_scaled, columns=['opy_scaled', 'np_scaled'])], axis=1)"
   ]
  },
  {
   "cell_type": "code",
   "execution_count": 11,
   "id": "736cd46c-9359-498f-b47e-957966c15aa4",
   "metadata": {},
   "outputs": [
    {
     "data": {
      "image/png": "[encoded data removed]",
      "text/plain": [
       "<Figure size 640x480 with 1 Axes>"
      ]
     },
     "metadata": {},
     "output_type": "display_data"
    }
   ],
   "source": [
    "# Look at the distribution of the scaled and clipped columns\n",
    "books[['opy_scaled', 'np_scaled']].plot.hist();"
   ]
  },
  {
   "cell_type": "code",
   "execution_count": 12,
   "id": "850a2187-c301-42a7-910c-8ac7aa714686",
   "metadata": {},
   "outputs": [],
   "source": [
    "# Create a df with opy and np as features in the same order as the genres df\n",
    "opy_np = books[['work_id', 'opy_scaled', 'np_scaled']].set_index('work_id').sort_index()"
   ]
  },
  {
   "cell_type": "markdown",
   "id": "4f3c28a2-359d-42ac-afb8-e03d40aa0adc",
   "metadata": {},
   "source": [
    "------------------------------------------------------------------------------------------------------------------------------"
   ]
  },
  {
   "cell_type": "code",
   "execution_count": 13,
   "id": "572b261c-ba79-45b7-89dd-5c98649464fa",
   "metadata": {},
   "outputs": [
    {
     "name": "stdout",
     "output_type": "stream",
     "text": [
      "Number of Authors: 5554\n",
      "Number of Multiple Publishing Authors: 2214\n",
      "Number of Books: 13525\n"
     ]
    }
   ],
   "source": [
    "# Find out the number of different authors there are in the books table\n",
    "print(f\"Number of Authors: {books['author'].nunique()}\")\n",
    "\n",
    "# Find out how many authors have more than one book in the books table\n",
    "print(f\"Number of Multiple Publishing Authors: {sum(books['author'].value_counts() > 1)}\")\n",
    "\n",
    "# Find out how many books there are in the books table\n",
    "print(f'Number of Books: {books.shape[0]}')"
   ]
  },
  {
   "cell_type": "markdown",
   "id": "f2a5f570-1106-4caa-b8ce-659c6d4acf29",
   "metadata": {},
   "source": [
    "There are too many authors to create dummies that can be inputted into the cosine_similarity function. Therefore, instead, I plan to increase the cosine_similarity of two books by x (to be decided later) if they are written by the same author."
   ]
  },
  {
   "cell_type": "markdown",
   "id": "c1e2ef14-8954-4b76-b9b4-842c0bbe98b7",
   "metadata": {},
   "source": [
    "------------------------------------------------------------------------------------------------------------------------------"
   ]
  },
  {
   "cell_type": "code",
   "execution_count": 14,
   "id": "83b040f6-a846-4465-bb7b-500e7f2aaef3",
   "metadata": {},
   "outputs": [
    {
     "data": {
      "text/plain": [
       "array(['come', 'family', 'friend', 'good', 'know', 'leave', 'life',\n",
       "       'like', 'live', 'love', 'man', 'new', 'secret', 'story', 'thing',\n",
       "       'time', 'want', 'way', 'world', 'year', 'young'], dtype=object)"
      ]
     },
     "execution_count": 14,
     "metadata": {},
     "output_type": "execute_result"
    }
   ],
   "source": [
    "tv = TfidfVectorizer(stop_words='english', min_df=0.15)\n",
    "tfidf = tv.fit_transform(books['description_clean'])\n",
    "tfidf_df = pd.DataFrame(tfidf.toarray(), columns=tv.get_feature_names_out(), index=books['work_id'])\n",
    "\n",
    "# Sort in the same order as genres table\n",
    "tfidf_df = tfidf_df.sort_index()\n",
    "\n",
    "tv.get_feature_names_out()"
   ]
  },
  {
   "cell_type": "markdown",
   "id": "2e1caadb-284f-4a39-9396-5a3c46dd70aa",
   "metadata": {},
   "source": [
    "------------------------------------------------------------------------------------------------------------------------------"
   ]
  },
  {
   "cell_type": "code",
   "execution_count": 15,
   "id": "7cfc3c82-d66d-4780-9bab-529385c92bbd",
   "metadata": {},
   "outputs": [],
   "source": [
    "# Weight the types of features\n",
    "genres_weighted = genres * 0.65\n",
    "tfidf_df_weighted = tfidf_df * 0.3\n",
    "opy_np_weighted =  opy_np * 0.05\n",
    "\n",
    "# Join each dataframe to create a matrix that will be inputted into a cosine_similarity function\n",
    "model_data = pd.concat([genres_weighted, tfidf_df_weighted, opy_np_weighted], axis=1)\n",
    "\n",
    "# Seperate the columns by category and assign the appropriate variable\n",
    "genre_cols = ['biography', 'children', 'comics', 'crime', 'fantasy', 'fiction', 'graphic', 'historical fiction', 'history', 'mystery', 'non-fiction', 'paranormal', 'poetry', 'romance', 'thriller', 'young-adult']\n",
    "year_col = ['opy_scaled']\n",
    "num_pages_col = ['np_scaled']\n",
    "tfidf_cols = ['come', 'family', 'friend', 'good', 'know', 'leave', 'life', 'like', 'live', 'love', 'man', 'new', 'secret', 'story', 'thing', 'time', 'want', 'way', 'world', 'year', 'young']\n",
    "\n",
    "# Select columns\n",
    "X = model_data[(\n",
    "    genre_cols +\n",
    "    year_col +\n",
    "    # num_pages_col + \n",
    "    tfidf_cols\n",
    ")]"
   ]
  },
  {
   "cell_type": "code",
   "execution_count": 16,
   "id": "7e63b799-b7c9-4922-a641-c4cbc013d9cd",
   "metadata": {},
   "outputs": [],
   "source": [
    "# Create a cosine similarity matrix that will be used for the similar books recommender \n",
    "cos_sim_matrix = cosine_similarity(X)"
   ]
  },
  {
   "cell_type": "markdown",
   "id": "af00936c-e133-4627-8c5f-00ffac2940ef",
   "metadata": {},
   "source": [
    "------------------------------------------------------------------------------------------------------------------------------"
   ]
  },
  {
   "cell_type": "code",
   "execution_count": 17,
   "id": "0bda1bf4-3175-4409-84f9-81082dc9f77f",
   "metadata": {},
   "outputs": [],
   "source": [
    "# Add a booster if the books are similar\n",
    "similar_books_booster = 0.25\n",
    "cos_sim_matrix = cos_sim_matrix + np.array(similar_books.replace(1, similar_books_booster))"
   ]
  },
  {
   "cell_type": "markdown",
   "id": "7d3a97b5-e25e-4bd2-887e-6569c95e689d",
   "metadata": {},
   "source": [
    "------------------------------------------------------------------------------------------------------------------------------"
   ]
  },
  {
   "cell_type": "code",
   "execution_count": 18,
   "id": "243eab3e-0953-4642-ac37-a5fe16ce811e",
   "metadata": {},
   "outputs": [],
   "source": [
    "# Get the authors series (the same order as the model_data work_id index order)\n",
    "authors = pd.DataFrame(work_id).merge(books[['work_id', 'author']])\n",
    "authors.index = authors['work_id']\n",
    "authors = authors.drop('work_id', axis=1)\n",
    "\n",
    "# Compare all pairs using broadcasting (outer comparison)\n",
    "same_author_matrix = (authors['author'].values[:, None] == authors['author'].values[None, :]).astype(int)\n",
    "same_author = pd.DataFrame(same_author_matrix)\n",
    "\n",
    "# Add a booster if the books are written by the same author\n",
    "same_author_booster = 0.1\n",
    "cos_sim_matrix = cos_sim_matrix + np.array(same_author.replace(1, same_author_booster))"
   ]
  },
  {
   "cell_type": "markdown",
   "id": "b1521a72-58ba-4414-9212-c0db3b306ab8",
   "metadata": {},
   "source": [
    "------------------------------------------------------------------------------------------------------------------------------"
   ]
  },
  {
   "cell_type": "code",
   "execution_count": 19,
   "id": "dbe067c0-dd60-4302-ab8f-4131bd66157b",
   "metadata": {},
   "outputs": [],
   "source": [
    "# Turn the cosine_similarity matrix into a pd.DataFrame\n",
    "cos_sim = pd.DataFrame(cos_sim_matrix, columns=work_id, index=work_id)\n",
    "cos_sim.columns.name = None\n",
    "cos_sim.index.name = None"
   ]
  },
  {
   "cell_type": "code",
   "execution_count": 20,
   "id": "74703e99-4c54-474b-b871-2dc1c7682d75",
   "metadata": {},
   "outputs": [],
   "source": [
    "# Export the cos_sim pd.DataFrame\n",
    "cos_sim.to_pickle('../Data/books_similarity_scores.pkl')"
   ]
  },
  {
   "cell_type": "markdown",
   "id": "94f4cff1-2655-4837-9a75-a394d9f9f35a",
   "metadata": {},
   "source": [
    "------------------------------------------------------------------------------------------------------------------------------"
   ]
  },
  {
   "cell_type": "markdown",
   "id": "a8872397-608b-4a24-be5d-0eef3ffc57aa",
   "metadata": {},
   "source": [
    "#### Build Engine"
   ]
  },
  {
   "cell_type": "code",
   "execution_count": 21,
   "id": "acf8c0b4-a953-4e0c-ad22-f0b8d48e12a2",
   "metadata": {},
   "outputs": [],
   "source": [
    "def recommendations(books_list, num_rec=5):\n",
    "    # Get the work_ids of the books in the books_list\n",
    "    work_ids = np.array(books[books['original_title'].isin(books_list)]['work_id'].to_list())\n",
    "\n",
    "    # Get the max (changed from average) similarity_scores of each book compared to the books in book_list\n",
    "    sim_scores = pd.DataFrame(cos_sim.loc[:, work_ids].max(axis=1), columns=['mean_sim_score'])\n",
    "\n",
    "    # Get all the information for each book and sort by mean_sim_score\n",
    "    recommendations = (sim_scores.reset_index()\n",
    "                                 .merge(books, left_on='index', right_on='work_id')\n",
    "                                 .sort_values(by='mean_sim_score', ascending=False)\n",
    "                      )\n",
    "\n",
    "    # Remove books from books_list from recommendations and return num_rec rows\n",
    "    recommendations = recommendations[~recommendations['work_id'].isin(work_ids)].iloc[:num_rec, 1:-5]\n",
    "        \n",
    "    return recommendations"
   ]
  },
  {
   "cell_type": "markdown",
   "id": "615294eb-8b2c-4fcd-841a-c257502d743d",
   "metadata": {},
   "source": [
    "##### Testing"
   ]
  },
  {
   "cell_type": "code",
   "execution_count": 22,
   "id": "64a829bf-85f2-48a7-a1de-405e25b9a4e8",
   "metadata": {},
   "outputs": [
    {
     "data": {
      "text/html": [
       "<div>\n",
       "<style scoped>\n",
       "    .dataframe tbody tr th:only-of-type {\n",
       "        vertical-align: middle;\n",
       "    }\n",
       "\n",
       "    .dataframe tbody tr th {\n",
       "        vertical-align: top;\n",
       "    }\n",
       "\n",
       "    .dataframe thead th {\n",
       "        text-align: right;\n",
       "    }\n",
       "</style>\n",
       "<table border=\"1\" class=\"dataframe\">\n",
       "  <thead>\n",
       "    <tr style=\"text-align: right;\">\n",
       "      <th></th>\n",
       "      <th>mean_sim_score</th>\n",
       "      <th>work_id</th>\n",
       "      <th>isbn</th>\n",
       "      <th>isbn13</th>\n",
       "      <th>original_title</th>\n",
       "      <th>author</th>\n",
       "      <th>original_publication_year</th>\n",
       "      <th>num_pages</th>\n",
       "      <th>description</th>\n",
       "      <th>image_url</th>\n",
       "      <th>reviews_count</th>\n",
       "      <th>text_reviews_count</th>\n",
       "      <th>5_star_ratings</th>\n",
       "      <th>4_star_ratings</th>\n",
       "      <th>3_star_ratings</th>\n",
       "      <th>2_star_ratings</th>\n",
       "      <th>1_star_ratings</th>\n",
       "      <th>ratings_count</th>\n",
       "      <th>avg_rating</th>\n",
       "      <th>avg_days_to_finish</th>\n",
       "    </tr>\n",
       "  </thead>\n",
       "  <tbody>\n",
       "    <tr>\n",
       "      <th>1339</th>\n",
       "      <td>1.224385</td>\n",
       "      <td>881425</td>\n",
       "      <td>0446677388</td>\n",
       "      <td>9780446677387</td>\n",
       "      <td>Kiss the Girls</td>\n",
       "      <td>James Patterson</td>\n",
       "      <td>1995.0</td>\n",
       "      <td>458.0</td>\n",
       "      <td>In Los Angeles, a reporter investigating a ser...</td>\n",
       "      <td>https://s.gr-assets.com/assets/nophoto/book/11...</td>\n",
       "      <td>365582</td>\n",
       "      <td>2874</td>\n",
       "      <td>101039</td>\n",
       "      <td>96956</td>\n",
       "      <td>58658</td>\n",
       "      <td>14615</td>\n",
       "      <td>10547</td>\n",
       "      <td>281815</td>\n",
       "      <td>3.9</td>\n",
       "      <td>5.0</td>\n",
       "    </tr>\n",
       "    <tr>\n",
       "      <th>5235</th>\n",
       "      <td>1.083028</td>\n",
       "      <td>8812783</td>\n",
       "      <td>0439023513</td>\n",
       "      <td>9780439023511</td>\n",
       "      <td>Mockingjay</td>\n",
       "      <td>Suzanne Collins</td>\n",
       "      <td>2010.0</td>\n",
       "      <td>392.0</td>\n",
       "      <td>My name is Katniss Everdeen.\\nWhy am I not dea...</td>\n",
       "      <td>https://images.gr-assets.com/books/1358275419m...</td>\n",
       "      <td>2397181</td>\n",
       "      <td>96736</td>\n",
       "      <td>749202</td>\n",
       "      <td>627098</td>\n",
       "      <td>378562</td>\n",
       "      <td>112136</td>\n",
       "      <td>30653</td>\n",
       "      <td>1897651</td>\n",
       "      <td>4.0</td>\n",
       "      <td>23.0</td>\n",
       "    </tr>\n",
       "    <tr>\n",
       "      <th>4338</th>\n",
       "      <td>1.074074</td>\n",
       "      <td>6171458</td>\n",
       "      <td>0439023491</td>\n",
       "      <td>9780439023498</td>\n",
       "      <td>Catching Fire</td>\n",
       "      <td>Suzanne Collins</td>\n",
       "      <td>2009.0</td>\n",
       "      <td>391.0</td>\n",
       "      <td>Sparks are igniting.\\nFlames are spreading.\\nA...</td>\n",
       "      <td>https://images.gr-assets.com/books/1358273780m...</td>\n",
       "      <td>2505702</td>\n",
       "      <td>89071</td>\n",
       "      <td>992769</td>\n",
       "      <td>696715</td>\n",
       "      <td>265971</td>\n",
       "      <td>48866</td>\n",
       "      <td>10703</td>\n",
       "      <td>2015024</td>\n",
       "      <td>4.3</td>\n",
       "      <td>23.0</td>\n",
       "    </tr>\n",
       "    <tr>\n",
       "      <th>5522</th>\n",
       "      <td>1.074074</td>\n",
       "      <td>11349083</td>\n",
       "      <td>0545265355</td>\n",
       "      <td>9780545265355</td>\n",
       "      <td>The Hunger Games Box Set</td>\n",
       "      <td>Suzanne Collins</td>\n",
       "      <td>2010.0</td>\n",
       "      <td>1155.0</td>\n",
       "      <td>The extraordinary, ground breaking New York Ti...</td>\n",
       "      <td>https://images.gr-assets.com/books/1360094673m...</td>\n",
       "      <td>209265</td>\n",
       "      <td>6494</td>\n",
       "      <td>101137</td>\n",
       "      <td>43695</td>\n",
       "      <td>13685</td>\n",
       "      <td>2569</td>\n",
       "      <td>1035</td>\n",
       "      <td>162121</td>\n",
       "      <td>4.5</td>\n",
       "      <td>10.0</td>\n",
       "    </tr>\n",
       "    <tr>\n",
       "      <th>4137</th>\n",
       "      <td>1.067799</td>\n",
       "      <td>4912783</td>\n",
       "      <td>0192833987</td>\n",
       "      <td>9780192833983</td>\n",
       "      <td>Voina i mir'</td>\n",
       "      <td>Leo Tolstoy</td>\n",
       "      <td>1868.0</td>\n",
       "      <td>1392.0</td>\n",
       "      <td>Tolstoy's epic masterpiece intertwines the liv...</td>\n",
       "      <td>https://images.gr-assets.com/books/1413215930m...</td>\n",
       "      <td>526253</td>\n",
       "      <td>8324</td>\n",
       "      <td>89250</td>\n",
       "      <td>61839</td>\n",
       "      <td>32645</td>\n",
       "      <td>9945</td>\n",
       "      <td>5084</td>\n",
       "      <td>198763</td>\n",
       "      <td>4.1</td>\n",
       "      <td>106.0</td>\n",
       "    </tr>\n",
       "  </tbody>\n",
       "</table>\n",
       "</div>"
      ],
      "text/plain": [
       "      mean_sim_score   work_id        isbn         isbn13  \\\n",
       "1339        1.224385    881425  0446677388  9780446677387   \n",
       "5235        1.083028   8812783  0439023513  9780439023511   \n",
       "4338        1.074074   6171458  0439023491  9780439023498   \n",
       "5522        1.074074  11349083  0545265355  9780545265355   \n",
       "4137        1.067799   4912783  0192833987  9780192833983   \n",
       "\n",
       "                original_title           author  original_publication_year  \\\n",
       "1339            Kiss the Girls  James Patterson                     1995.0   \n",
       "5235                Mockingjay  Suzanne Collins                     2010.0   \n",
       "4338             Catching Fire  Suzanne Collins                     2009.0   \n",
       "5522  The Hunger Games Box Set  Suzanne Collins                     2010.0   \n",
       "4137              Voina i mir'      Leo Tolstoy                     1868.0   \n",
       "\n",
       "      num_pages                                        description  \\\n",
       "1339      458.0  In Los Angeles, a reporter investigating a ser...   \n",
       "5235      392.0  My name is Katniss Everdeen.\\nWhy am I not dea...   \n",
       "4338      391.0  Sparks are igniting.\\nFlames are spreading.\\nA...   \n",
       "5522     1155.0  The extraordinary, ground breaking New York Ti...   \n",
       "4137     1392.0  Tolstoy's epic masterpiece intertwines the liv...   \n",
       "\n",
       "                                              image_url  reviews_count  \\\n",
       "1339  https://s.gr-assets.com/assets/nophoto/book/11...         365582   \n",
       "5235  https://images.gr-assets.com/books/1358275419m...        2397181   \n",
       "4338  https://images.gr-assets.com/books/1358273780m...        2505702   \n",
       "5522  https://images.gr-assets.com/books/1360094673m...         209265   \n",
       "4137  https://images.gr-assets.com/books/1413215930m...         526253   \n",
       "\n",
       "      text_reviews_count  5_star_ratings  4_star_ratings  3_star_ratings  \\\n",
       "1339                2874          101039           96956           58658   \n",
       "5235               96736          749202          627098          378562   \n",
       "4338               89071          992769          696715          265971   \n",
       "5522                6494          101137           43695           13685   \n",
       "4137                8324           89250           61839           32645   \n",
       "\n",
       "      2_star_ratings  1_star_ratings  ratings_count  avg_rating  \\\n",
       "1339           14615           10547         281815         3.9   \n",
       "5235          112136           30653        1897651         4.0   \n",
       "4338           48866           10703        2015024         4.3   \n",
       "5522            2569            1035         162121         4.5   \n",
       "4137            9945            5084         198763         4.1   \n",
       "\n",
       "      avg_days_to_finish  \n",
       "1339                 5.0  \n",
       "5235                23.0  \n",
       "4338                23.0  \n",
       "5522                10.0  \n",
       "4137               106.0  "
      ]
     },
     "execution_count": 22,
     "metadata": {},
     "output_type": "execute_result"
    }
   ],
   "source": [
    "# Initialise a list of my favourite books for quick testing\n",
    "fav_books = [\n",
    "    'The Silence of the Lambs', \n",
    "    'Anna Karenina', \n",
    "    'Idiot', \n",
    "    'The Catcher in the Rye', \n",
    "    'Nineteen Eighty-Four',\n",
    "    'Lord of the Flies',\n",
    "    'Animal Farm: A Fairy Story',\n",
    "    'The Hunger Games'\n",
    "]\n",
    "\n",
    "recommendations(fav_books)"
   ]
  },
  {
   "cell_type": "markdown",
   "id": "6dae08ab-2d91-4f93-b0b3-8a3d0e01c5f6",
   "metadata": {},
   "source": [
    "### Collaberative Filtering"
   ]
  },
  {
   "cell_type": "code",
   "execution_count": 23,
   "id": "fee30c38-86c8-4f1e-96d3-ec2a289ddb19",
   "metadata": {},
   "outputs": [
    {
     "name": "stdout",
     "output_type": "stream",
     "text": [
      "Number of unique users: 18800\n",
      "Number of books reviewed: 13525\n"
     ]
    }
   ],
   "source": [
    "# See how many unique users there are and how many books have been reviewed\n",
    "print(f\"Number of unique users: {reviews['user_id'].nunique()}\")\n",
    "print(f\"Number of books reviewed: {reviews['work_id'].nunique()}\")"
   ]
  },
  {
   "cell_type": "code",
   "execution_count": 24,
   "id": "343babcb-d50a-4437-89b1-77afe195b047",
   "metadata": {},
   "outputs": [],
   "source": [
    "# Drop the first review of the users who reviewed the same book twice (investigated in the DataCleaning section)\n",
    "reviews_unique = (reviews.sort_values(by='date_added')\n",
    "                         [~reviews.sort_values(by='date_added').duplicated(subset=['user_id', 'work_id'], keep='last')]\n",
    "                         .sort_index()\n",
    "                 )"
   ]
  },
  {
   "cell_type": "code",
   "execution_count": 25,
   "id": "dc168a17-1239-4277-9fb2-21ebb5231047",
   "metadata": {},
   "outputs": [],
   "source": [
    "# Create a user-item matrix that has user_id as index, work_id as columns, and rating as values\n",
    "user_item = reviews_unique.pivot(index='user_id', columns='work_id', values='rating')"
   ]
  },
  {
   "cell_type": "markdown",
   "id": "89b386ea-ef54-488f-a8f0-0bdb3f4b03ee",
   "metadata": {},
   "source": [
    "## Feature Engineering (Web App)"
   ]
  },
  {
   "cell_type": "markdown",
   "id": "0f1fc157-f8c5-4877-989c-52830e268f25",
   "metadata": {},
   "source": [
    "Add features that will act as flags in the web app\n",
    "\n",
    "Created:\n",
    "- Classics\n",
    "- Hidden Gems\n",
    "\n",
    "Other Possibilities:\n",
    "- Short Read (low num_pages)\n",
    "- Door Stopper (High num_pages)"
   ]
  },
  {
   "cell_type": "code",
   "execution_count": 26,
   "id": "6775b626-5a64-4a55-8cf8-018ae498755a",
   "metadata": {},
   "outputs": [
    {
     "name": "stdout",
     "output_type": "stream",
     "text": [
      "5_star_ratings_percent - 0.01 percentile: 0.11312711314794567\n",
      "5_star_ratings_percent - 0.05 percentile: 0.16654263565891472\n",
      "5_star_ratings_percent - 0.25 percentile: 0.2540572440247861\n",
      "5_star_ratings_percent - 0.5 percentile: 0.3238382099827883\n",
      "5_star_ratings_percent - 0.75 percentile: 0.4061574896388396\n",
      "5_star_ratings_percent - 0.95 percentile: 0.5301058637217008\n",
      "5_star_ratings_percent - 0.99 percentile: 0.6277055193965076\n"
     ]
    },
    {
     "data": {
      "image/png": "[encoded data removed]",
      "text/plain": [
       "<Figure size 640x480 with 1 Axes>"
      ]
     },
     "metadata": {},
     "output_type": "display_data"
    }
   ],
   "source": [
    "# Create a column that has the percentage of 5 star ratings for that book\n",
    "books['5_star_ratings_percent'] = books['5_star_ratings'] / books['ratings_count']\n",
    "\n",
    "# Inspect the column by looking at the key percentiles and histogram\n",
    "functions.get_percentiles(books, '5_star_ratings_percent')\n",
    "books.hist('5_star_ratings_percent');"
   ]
  },
  {
   "cell_type": "code",
   "execution_count": 27,
   "id": "a645affe-efd0-46fc-83a6-47cababc03f9",
   "metadata": {},
   "outputs": [
    {
     "name": "stdout",
     "output_type": "stream",
     "text": [
      "The amount of books that will be tagged as classics: 882, which is 6.52% of books.\n"
     ]
    }
   ],
   "source": [
    "# Set the classic tag requirment thresholds based on the inspected percentiles (checked year percentiles earlier)\n",
    "classic_ratings_threshold = books['5_star_ratings_percent'].quantile(0.75)\n",
    "classic_year_threshold = books['original_publication_year'].quantile(0.25)\n",
    "\n",
    "# Save the classic tag logic in a variable for minipulation (summing and filtering)\n",
    "mask = ((books['5_star_ratings_percent'] >= classic_ratings_threshold) & \n",
    "        (books['original_publication_year'] <= classic_year_threshold))\n",
    "\n",
    "# Get the amount of books that are considered classics and the percentage of books considered classics\n",
    "classics_amount = sum(mask)\n",
    "classics_percent = round((classics_amount / len(books)) * 100, 2)\n",
    "print(f'The amount of books that will be tagged as classics: {classics_amount}, which is {classics_percent}% of books.')\n",
    "\n",
    "# Add a classics dummy variable to the books table\n",
    "books['classics'] = np.where(mask, 1, 0)"
   ]
  },
  {
   "cell_type": "markdown",
   "id": "37781451-c901-4593-ac91-d03cd0166c02",
   "metadata": {},
   "source": [
    "------------------------------------------------------------------------------------------------------------------------------"
   ]
  },
  {
   "cell_type": "code",
   "execution_count": 28,
   "id": "9cf27882-12bd-435e-9046-4b6f0d3d0a80",
   "metadata": {},
   "outputs": [
    {
     "name": "stdout",
     "output_type": "stream",
     "text": [
      "total_reviews_ratings - 0.01 percentile: 1266.24\n",
      "total_reviews_ratings - 0.05 percentile: 2879.2\n",
      "total_reviews_ratings - 0.25 percentile: 9729.0\n",
      "total_reviews_ratings - 0.5 percentile: 24286.0\n",
      "total_reviews_ratings - 0.75 percentile: 65674.0\n",
      "total_reviews_ratings - 0.95 percentile: 352087.1999999999\n",
      "total_reviews_ratings - 0.99 percentile: 1307669.3200000003\n"
     ]
    },
    {
     "data": {
      "image/png": "[encoded data removed]",
      "text/plain": [
       "<Figure size 640x480 with 1 Axes>"
      ]
     },
     "metadata": {},
     "output_type": "display_data"
    }
   ],
   "source": [
    "# Add a column that has the total reviews and ratings\n",
    "books['total_reviews_ratings'] = books['reviews_count'] + books['ratings_count']\n",
    "\n",
    "# Inspect the column by looking at the key percentiles and histogram\n",
    "functions.get_percentiles(books, 'total_reviews_ratings')\n",
    "books[books['total_reviews_ratings'] < 20000]['total_reviews_ratings'].hist();"
   ]
  },
  {
   "cell_type": "code",
   "execution_count": 29,
   "id": "6b68b7be-094b-449f-89d6-99007e104382",
   "metadata": {},
   "outputs": [
    {
     "name": "stdout",
     "output_type": "stream",
     "text": [
      "The amount of books that will be tagged as a hidden gem: 617, which is 4.56% of books.\n"
     ]
    }
   ],
   "source": [
    "# Set the hidden_gem tag requirment thresholds based on the inspected percentiles\n",
    "gem_ratings_threshold = books['5_star_ratings_percent'].quantile(0.70)\n",
    "gem_interaction_threshold = books['total_reviews_ratings'].quantile(0.25)\n",
    "\n",
    "# Save the hidden_gem tag logic in a variable for minipulation (summing and filtering)\n",
    "mask = ((books['5_star_ratings_percent'] >= gem_ratings_threshold) & \n",
    "        (books['total_reviews_ratings'] <= gem_interaction_threshold))\n",
    "\n",
    "# Get the amount of books that are considered hidden gems and the percentage of books considered hidden gems\n",
    "gem_amount = sum(mask)\n",
    "gem_percent = round((gem_amount / len(books)) * 100, 2)\n",
    "print(f'The amount of books that will be tagged as a hidden gem: {gem_amount}, which is {gem_percent}% of books.')\n",
    "\n",
    "# Add a hidden_gem dummy variable to the books table\n",
    "books['hidden_gem'] = np.where(mask, 1, 0)"
   ]
  },
  {
   "cell_type": "markdown",
   "id": "5848452c-968f-41b4-b432-e9a0c2cc4740",
   "metadata": {},
   "source": [
    "------------------------------------------------------------------------------------------------------------------------------"
   ]
  },
  {
   "cell_type": "code",
   "execution_count": 30,
   "id": "6bf13d70-3903-4203-bd18-775e4851a2a4",
   "metadata": {},
   "outputs": [
    {
     "name": "stdout",
     "output_type": "stream",
     "text": [
      "The amount of books that will are tagged as a hidden gem and classic: 41\n"
     ]
    }
   ],
   "source": [
    "# Make sure there are no books that are simultaneously a classic and hidden gem\n",
    "classic_gem = books[['classics', 'hidden_gem']].sum(axis=1) == 2\n",
    "print(f'The amount of books that will are tagged as a hidden gem and classic: {sum(classic_gem)}')\n",
    "\n",
    "# Prioritise classic over hidden gem. Therefore, remove hidden_gem flag from books that are both (can change this)\n",
    "books['hidden_gem'] = np.where(classic_gem, 0, books['hidden_gem'])"
   ]
  }
 ],
 "metadata": {
  "kernelspec": {
   "display_name": "Python 3 (ipykernel)",
   "language": "python",
   "name": "python3"
  },
  "language_info": {
   "codemirror_mode": {
    "name": "ipython",
    "version": 3
   },
   "file_extension": ".py",
   "mimetype": "text/x-python",
   "name": "python",
   "nbconvert_exporter": "python",
   "pygments_lexer": "ipython3",
   "version": "3.11.13"
  }
 },
 "nbformat": 4,
 "nbformat_minor": 5
}
