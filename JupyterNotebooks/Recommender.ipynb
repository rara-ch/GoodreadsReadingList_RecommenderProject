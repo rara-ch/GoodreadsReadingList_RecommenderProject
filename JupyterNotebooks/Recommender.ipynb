{
 "cells": [
  {
   "cell_type": "markdown",
   "id": "3db002bf-07ef-4cea-97d2-d8f5a552552f",
   "metadata": {},
   "source": [
    "# Goodreads Reading List Recommender Project (Recommender)"
   ]
  },
  {
   "cell_type": "code",
   "execution_count": 1,
   "id": "e417f34a-5596-41ce-833e-d1fea1a8c92f",
   "metadata": {},
   "outputs": [],
   "source": [
    "# Import basic data libraries\n",
    "import numpy as np\n",
    "import pandas as pd\n",
    "import matplotlib.pyplot as plt\n",
    "import seaborn as sns\n",
    "\n",
    "# Import other functions\n",
    "from sklearn.preprocessing import MinMaxScaler\n",
    "from sklearn.metrics.pairwise import cosine_similarity"
   ]
  },
  {
   "cell_type": "markdown",
   "id": "8aaac7d8-f013-4547-8a03-dfecd944f550",
   "metadata": {},
   "source": [
    "## Importing and Inspecting"
   ]
  },
  {
   "cell_type": "code",
   "execution_count": 2,
   "id": "99bdcaba-b5fb-4bc4-b106-c3dc21a61693",
   "metadata": {},
   "outputs": [
    {
     "name": "stdout",
     "output_type": "stream",
     "text": [
      "(13525, 18)\n"
     ]
    },
    {
     "data": {
      "text/html": [
       "<div>\n",
       "<style scoped>\n",
       "    .dataframe tbody tr th:only-of-type {\n",
       "        vertical-align: middle;\n",
       "    }\n",
       "\n",
       "    .dataframe tbody tr th {\n",
       "        vertical-align: top;\n",
       "    }\n",
       "\n",
       "    .dataframe thead th {\n",
       "        text-align: right;\n",
       "    }\n",
       "</style>\n",
       "<table border=\"1\" class=\"dataframe\">\n",
       "  <thead>\n",
       "    <tr style=\"text-align: right;\">\n",
       "      <th></th>\n",
       "      <th>work_id</th>\n",
       "      <th>isbn</th>\n",
       "      <th>isbn13</th>\n",
       "      <th>original_title</th>\n",
       "      <th>author</th>\n",
       "      <th>original_publication_year</th>\n",
       "      <th>num_pages</th>\n",
       "      <th>description</th>\n",
       "      <th>image_url</th>\n",
       "      <th>reviews_count</th>\n",
       "      <th>text_reviews_count</th>\n",
       "      <th>5_star_ratings</th>\n",
       "      <th>4_star_ratings</th>\n",
       "      <th>3_star_ratings</th>\n",
       "      <th>2_star_ratings</th>\n",
       "      <th>1_star_ratings</th>\n",
       "      <th>ratings_count</th>\n",
       "      <th>avg_rating</th>\n",
       "    </tr>\n",
       "  </thead>\n",
       "  <tbody>\n",
       "    <tr>\n",
       "      <th>0</th>\n",
       "      <td>2919130</td>\n",
       "      <td>1416534601</td>\n",
       "      <td>9781416534600</td>\n",
       "      <td>Nocturnes</td>\n",
       "      <td>John Connolly</td>\n",
       "      <td>2004.0</td>\n",
       "      <td>NaN</td>\n",
       "      <td>NaN</td>\n",
       "      <td>https://s.gr-assets.com/assets/nophoto/book/11...</td>\n",
       "      <td>8820</td>\n",
       "      <td>338</td>\n",
       "      <td>1118</td>\n",
       "      <td>1601</td>\n",
       "      <td>1029</td>\n",
       "      <td>190</td>\n",
       "      <td>58</td>\n",
       "      <td>3996</td>\n",
       "      <td>3.9</td>\n",
       "    </tr>\n",
       "    <tr>\n",
       "      <th>1</th>\n",
       "      <td>52087333</td>\n",
       "      <td>NaN</td>\n",
       "      <td>NaN</td>\n",
       "      <td>Draw Play</td>\n",
       "      <td>Tia Lewis</td>\n",
       "      <td>2016.0</td>\n",
       "      <td>NaN</td>\n",
       "      <td>Jake:\\nI can't believe my coach assigned me a ...</td>\n",
       "      <td>https://s.gr-assets.com/assets/nophoto/book/11...</td>\n",
       "      <td>2482</td>\n",
       "      <td>204</td>\n",
       "      <td>204</td>\n",
       "      <td>353</td>\n",
       "      <td>274</td>\n",
       "      <td>77</td>\n",
       "      <td>29</td>\n",
       "      <td>937</td>\n",
       "      <td>3.7</td>\n",
       "    </tr>\n",
       "  </tbody>\n",
       "</table>\n",
       "</div>"
      ],
      "text/plain": [
       "    work_id        isbn         isbn13 original_title         author  \\\n",
       "0   2919130  1416534601  9781416534600      Nocturnes  John Connolly   \n",
       "1  52087333         NaN            NaN      Draw Play      Tia Lewis   \n",
       "\n",
       "   original_publication_year  num_pages  \\\n",
       "0                     2004.0        NaN   \n",
       "1                     2016.0        NaN   \n",
       "\n",
       "                                         description  \\\n",
       "0                                                NaN   \n",
       "1  Jake:\\nI can't believe my coach assigned me a ...   \n",
       "\n",
       "                                           image_url  reviews_count  \\\n",
       "0  https://s.gr-assets.com/assets/nophoto/book/11...           8820   \n",
       "1  https://s.gr-assets.com/assets/nophoto/book/11...           2482   \n",
       "\n",
       "   text_reviews_count  5_star_ratings  4_star_ratings  3_star_ratings  \\\n",
       "0                 338            1118            1601            1029   \n",
       "1                 204             204             353             274   \n",
       "\n",
       "   2_star_ratings  1_star_ratings  ratings_count  avg_rating  \n",
       "0             190              58           3996         3.9  \n",
       "1              77              29            937         3.7  "
      ]
     },
     "execution_count": 2,
     "metadata": {},
     "output_type": "execute_result"
    }
   ],
   "source": [
    "# Read in the cleaned books table\n",
    "books = pd.read_pickle('../Data/books.pkl')\n",
    "\n",
    "# Look at the shape of the books table\n",
    "print(books.shape)\n",
    "\n",
    "# Look at the head of the books table\n",
    "books.head(2)"
   ]
  },
  {
   "cell_type": "code",
   "execution_count": 3,
   "id": "1e93e42b-ec16-44c4-8748-76fc79edd598",
   "metadata": {},
   "outputs": [
    {
     "name": "stdout",
     "output_type": "stream",
     "text": [
      "(13525, 17)\n"
     ]
    },
    {
     "data": {
      "text/html": [
       "<div>\n",
       "<style scoped>\n",
       "    .dataframe tbody tr th:only-of-type {\n",
       "        vertical-align: middle;\n",
       "    }\n",
       "\n",
       "    .dataframe tbody tr th {\n",
       "        vertical-align: top;\n",
       "    }\n",
       "\n",
       "    .dataframe thead th {\n",
       "        text-align: right;\n",
       "    }\n",
       "</style>\n",
       "<table border=\"1\" class=\"dataframe\">\n",
       "  <thead>\n",
       "    <tr style=\"text-align: right;\">\n",
       "      <th></th>\n",
       "      <th>work_id</th>\n",
       "      <th>biography</th>\n",
       "      <th>children</th>\n",
       "      <th>comics</th>\n",
       "      <th>crime</th>\n",
       "      <th>fantasy</th>\n",
       "      <th>fiction</th>\n",
       "      <th>graphic</th>\n",
       "      <th>historical fiction</th>\n",
       "      <th>history</th>\n",
       "      <th>mystery</th>\n",
       "      <th>non-fiction</th>\n",
       "      <th>paranormal</th>\n",
       "      <th>poetry</th>\n",
       "      <th>romance</th>\n",
       "      <th>thriller</th>\n",
       "      <th>young-adult</th>\n",
       "    </tr>\n",
       "  </thead>\n",
       "  <tbody>\n",
       "    <tr>\n",
       "      <th>0</th>\n",
       "      <td>104</td>\n",
       "      <td>1</td>\n",
       "      <td>0</td>\n",
       "      <td>0</td>\n",
       "      <td>0</td>\n",
       "      <td>0</td>\n",
       "      <td>1</td>\n",
       "      <td>0</td>\n",
       "      <td>1</td>\n",
       "      <td>1</td>\n",
       "      <td>0</td>\n",
       "      <td>1</td>\n",
       "      <td>0</td>\n",
       "      <td>0</td>\n",
       "      <td>1</td>\n",
       "      <td>0</td>\n",
       "      <td>0</td>\n",
       "    </tr>\n",
       "    <tr>\n",
       "      <th>1</th>\n",
       "      <td>114</td>\n",
       "      <td>1</td>\n",
       "      <td>0</td>\n",
       "      <td>0</td>\n",
       "      <td>0</td>\n",
       "      <td>1</td>\n",
       "      <td>1</td>\n",
       "      <td>0</td>\n",
       "      <td>1</td>\n",
       "      <td>1</td>\n",
       "      <td>0</td>\n",
       "      <td>0</td>\n",
       "      <td>1</td>\n",
       "      <td>0</td>\n",
       "      <td>1</td>\n",
       "      <td>0</td>\n",
       "      <td>0</td>\n",
       "    </tr>\n",
       "  </tbody>\n",
       "</table>\n",
       "</div>"
      ],
      "text/plain": [
       "   work_id  biography  children  comics  crime  fantasy  fiction  graphic  \\\n",
       "0      104          1         0       0      0        0        1        0   \n",
       "1      114          1         0       0      0        1        1        0   \n",
       "\n",
       "   historical fiction  history  mystery  non-fiction  paranormal  poetry  \\\n",
       "0                   1        1        0            1           0       0   \n",
       "1                   1        1        0            0           1       0   \n",
       "\n",
       "   romance  thriller  young-adult  \n",
       "0        1         0            0  \n",
       "1        1         0            0  "
      ]
     },
     "execution_count": 3,
     "metadata": {},
     "output_type": "execute_result"
    }
   ],
   "source": [
    "# Look at the head of the engineered genres table\n",
    "genres = pd.read_pickle('../Data/genres.pkl')\n",
    "\n",
    "# Look at the shape of the genres table\n",
    "print(genres.shape)\n",
    "\n",
    "# Look at the head of the books table\n",
    "genres.head(2)"
   ]
  },
  {
   "cell_type": "code",
   "execution_count": 4,
   "id": "d337a29f-7bce-46eb-9e34-fa54270eca4f",
   "metadata": {},
   "outputs": [
    {
     "name": "stdout",
     "output_type": "stream",
     "text": [
      "(13525, 12116)\n"
     ]
    },
    {
     "data": {
      "text/html": [
       "<div>\n",
       "<style scoped>\n",
       "    .dataframe tbody tr th:only-of-type {\n",
       "        vertical-align: middle;\n",
       "    }\n",
       "\n",
       "    .dataframe tbody tr th {\n",
       "        vertical-align: top;\n",
       "    }\n",
       "\n",
       "    .dataframe thead th {\n",
       "        text-align: right;\n",
       "    }\n",
       "</style>\n",
       "<table border=\"1\" class=\"dataframe\">\n",
       "  <thead>\n",
       "    <tr style=\"text-align: right;\">\n",
       "      <th></th>\n",
       "      <th>work_id</th>\n",
       "      <th>1000406</th>\n",
       "      <th>10017864</th>\n",
       "      <th>10018961</th>\n",
       "      <th>1003370</th>\n",
       "      <th>1003711</th>\n",
       "      <th>1003821</th>\n",
       "      <th>1003876</th>\n",
       "      <th>1003952</th>\n",
       "      <th>1004338</th>\n",
       "      <th>...</th>\n",
       "      <th>990467</th>\n",
       "      <th>99163</th>\n",
       "      <th>99257</th>\n",
       "      <th>99258</th>\n",
       "      <th>9932848</th>\n",
       "      <th>993612</th>\n",
       "      <th>994121</th>\n",
       "      <th>99441</th>\n",
       "      <th>997358</th>\n",
       "      <th>997754</th>\n",
       "    </tr>\n",
       "  </thead>\n",
       "  <tbody>\n",
       "    <tr>\n",
       "      <th>0</th>\n",
       "      <td>104</td>\n",
       "      <td>0</td>\n",
       "      <td>0</td>\n",
       "      <td>0</td>\n",
       "      <td>0</td>\n",
       "      <td>0</td>\n",
       "      <td>0</td>\n",
       "      <td>0</td>\n",
       "      <td>0</td>\n",
       "      <td>0</td>\n",
       "      <td>...</td>\n",
       "      <td>0</td>\n",
       "      <td>0</td>\n",
       "      <td>0</td>\n",
       "      <td>0</td>\n",
       "      <td>0</td>\n",
       "      <td>0</td>\n",
       "      <td>0</td>\n",
       "      <td>0</td>\n",
       "      <td>0</td>\n",
       "      <td>0</td>\n",
       "    </tr>\n",
       "    <tr>\n",
       "      <th>1</th>\n",
       "      <td>114</td>\n",
       "      <td>0</td>\n",
       "      <td>0</td>\n",
       "      <td>0</td>\n",
       "      <td>0</td>\n",
       "      <td>0</td>\n",
       "      <td>0</td>\n",
       "      <td>0</td>\n",
       "      <td>0</td>\n",
       "      <td>0</td>\n",
       "      <td>...</td>\n",
       "      <td>0</td>\n",
       "      <td>0</td>\n",
       "      <td>0</td>\n",
       "      <td>0</td>\n",
       "      <td>0</td>\n",
       "      <td>0</td>\n",
       "      <td>0</td>\n",
       "      <td>0</td>\n",
       "      <td>0</td>\n",
       "      <td>0</td>\n",
       "    </tr>\n",
       "  </tbody>\n",
       "</table>\n",
       "<p>2 rows × 12116 columns</p>\n",
       "</div>"
      ],
      "text/plain": [
       "   work_id  1000406  10017864  10018961  1003370  1003711  1003821  1003876  \\\n",
       "0      104        0         0         0        0        0        0        0   \n",
       "1      114        0         0         0        0        0        0        0   \n",
       "\n",
       "   1003952  1004338  ...  990467  99163  99257  99258  9932848  993612  \\\n",
       "0        0        0  ...       0      0      0      0        0       0   \n",
       "1        0        0  ...       0      0      0      0        0       0   \n",
       "\n",
       "   994121  99441  997358  997754  \n",
       "0       0      0       0       0  \n",
       "1       0      0       0       0  \n",
       "\n",
       "[2 rows x 12116 columns]"
      ]
     },
     "execution_count": 4,
     "metadata": {},
     "output_type": "execute_result"
    }
   ],
   "source": [
    "# Read in the similar_books table\n",
    "similar_books = pd.read_pickle('../Data/similar_books.pkl')\n",
    "\n",
    "# Look at the shape of the books table\n",
    "print(similar_books.shape)\n",
    "\n",
    "# Look at the head of the books table\n",
    "similar_books.head(2)"
   ]
  },
  {
   "cell_type": "markdown",
   "id": "45591a56-c3c1-4f87-9eaa-ec9bdaaebf1c",
   "metadata": {},
   "source": [
    "## Recommenders"
   ]
  },
  {
   "cell_type": "code",
   "execution_count": 5,
   "id": "c28b8a79-106a-46a0-b5cc-8eddc219e788",
   "metadata": {},
   "outputs": [],
   "source": [
    "def get_percentiles(df, column):\n",
    "    \"\"\"\n",
    "    Prints out seven percentiles of an input column from the input DataFrame. Specifically, the 1st, 5th, \n",
    "    25th, 50th, 75th, 95th, and 99th percentiles.\n",
    "    \n",
    "    Inputs:\n",
    "        - df (pd.DataFrame)\n",
    "        - column (str)\n",
    "    Returns:\n",
    "        - None\n",
    "    \"\"\"\n",
    "    percentiles = [0.01, 0.05, 0.25, 0.5, 0.75, 0.95, 0.99]\n",
    "    for percentile in percentiles:\n",
    "        print(f'{column} - {percentile} percentile: {df[column].quantile(percentile)}')"
   ]
  },
  {
   "cell_type": "markdown",
   "id": "ad504257-d6cd-4f29-bb2b-dcbe442d618c",
   "metadata": {},
   "source": [
    "### Content-Based Filtering"
   ]
  },
  {
   "cell_type": "markdown",
   "id": "17e27f0a-bdba-4740-8f19-c98d211053f6",
   "metadata": {},
   "source": [
    "From the EDA section, it was found that original_publication_year and num_pages have extreme outliers. Therefore, I will clip them before scaling to ensure accurate and balanced recommendations."
   ]
  },
  {
   "cell_type": "code",
   "execution_count": 6,
   "id": "64a829bf-85f2-48a7-a1de-405e25b9a4e8",
   "metadata": {},
   "outputs": [],
   "source": [
    "# Initialise a list of my favourite books for quick testing\n",
    "fav_books = [\"Brat'ia Karamazovy\", 'Anna Karenina', 'Idiot', 'The Catcher in the Rye', 'Nineteen Eighty-Four']\n",
    "\n",
    "# Find my favourite books in the books table\n",
    "favourites = books[books['original_title'].isin(fav_books)]"
   ]
  },
  {
   "cell_type": "markdown",
   "id": "b4fe8ada-f134-4c87-bfc3-78803895f66e",
   "metadata": {},
   "source": [
    "------------------------------------------------------------------------------------------------------------------------------"
   ]
  },
  {
   "cell_type": "code",
   "execution_count": 7,
   "id": "2674d800-a8d9-415d-97ab-bc5177c22dc3",
   "metadata": {},
   "outputs": [
    {
     "name": "stdout",
     "output_type": "stream",
     "text": [
      "original_publication_year - 0.01 percentile: 1884.06\n",
      "original_publication_year - 0.05 percentile: 1967.0\n",
      "original_publication_year - 0.25 percentile: 2006.0\n",
      "original_publication_year - 0.5 percentile: 2011.0\n",
      "original_publication_year - 0.75 percentile: 2014.0\n",
      "original_publication_year - 0.95 percentile: 2016.0\n",
      "original_publication_year - 0.99 percentile: 2017.0\n"
     ]
    }
   ],
   "source": [
    "# Check the percentiles for the original_publication_year column since there are outliers\n",
    "get_percentiles(books, 'original_publication_year')"
   ]
  },
  {
   "cell_type": "code",
   "execution_count": 8,
   "id": "1afa0b52-83d6-4beb-bc80-b7ab92a976d8",
   "metadata": {},
   "outputs": [
    {
     "name": "stdout",
     "output_type": "stream",
     "text": [
      "num_pages - 0.01 percentile: 39.94\n",
      "num_pages - 0.05 percentile: 128.0\n",
      "num_pages - 0.25 percentile: 260.0\n",
      "num_pages - 0.5 percentile: 334.0\n",
      "num_pages - 0.75 percentile: 391.0\n",
      "num_pages - 0.95 percentile: 551.2999999999993\n",
      "num_pages - 0.99 percentile: 792.239999999998\n"
     ]
    }
   ],
   "source": [
    "# Check the percentiles for the num_pages column since there are outliers\n",
    "get_percentiles(books, 'num_pages')"
   ]
  },
  {
   "cell_type": "code",
   "execution_count": 9,
   "id": "685480ab-a3ed-4fb2-a01e-f4e4d5797a27",
   "metadata": {},
   "outputs": [],
   "source": [
    "# Create clipped columns of original_publication_year and num_pages to reduce the influence of outliers\n",
    "books['opy_clipped'] = books['original_publication_year'].clip(lower=books['original_publication_year'].quantile(0.05))\n",
    "books['np_clipped'] = books['num_pages'].clip(upper=books['num_pages'].quantile(0.99).round())"
   ]
  },
  {
   "cell_type": "code",
   "execution_count": 10,
   "id": "7577b2ad-087c-4976-aa52-753e1002344f",
   "metadata": {},
   "outputs": [],
   "source": [
    "# Put the clipped original_publication_year and num_pages columns on a 0-1 scale so it matches the dummy variable scale\n",
    "mms = MinMaxScaler()\n",
    "books_scaled = mms.fit_transform(books[['opy_clipped', 'np_clipped']])\n",
    "books = pd.concat([books, pd.DataFrame(books_scaled, columns=['opy_scaled', 'np_scaled'])], axis=1)"
   ]
  },
  {
   "cell_type": "code",
   "execution_count": 11,
   "id": "736cd46c-9359-498f-b47e-957966c15aa4",
   "metadata": {},
   "outputs": [
    {
     "data": {
      "image/png": "[encoded data removed]",
      "text/plain": [
       "<Figure size 640x480 with 1 Axes>"
      ]
     },
     "metadata": {},
     "output_type": "display_data"
    }
   ],
   "source": [
    "# Look at the distribution of the scaled and clipped columns\n",
    "books[['opy_scaled', 'np_scaled']].plot.hist();"
   ]
  },
  {
   "cell_type": "code",
   "execution_count": 12,
   "id": "7cfc3c82-d66d-4780-9bab-529385c92bbd",
   "metadata": {},
   "outputs": [],
   "source": [
    "# Initialise the input matrix that will be initialised into the cosine_similarity function\n",
    "model_data = genres.copy()\n",
    "\n",
    "# Join the scaled and clipped original_publication_year and num_pages columns to X\n",
    "model_data = genres.merge(books[['work_id', 'opy_scaled', 'np_scaled']], on='work_id')\n",
    "\n",
    "# Select columns [TO BE DONE]\n",
    "#X = model_data[]"
   ]
  },
  {
   "cell_type": "code",
   "execution_count": 13,
   "id": "9b9a0bf1-44e4-45fb-a274-6be214126a0f",
   "metadata": {},
   "outputs": [],
   "source": [
    "# Create a cosine matrix for similar genres\n",
    "#co_sim = pd.DataFrame(cosine_similarity(model_data.iloc[1:]), columns=model_data.work_id, index=model_data.work_id)\n",
    "#co_sim.columns.name = None\n",
    "#co_sim.index.name = None"
   ]
  },
  {
   "cell_type": "markdown",
   "id": "94f4cff1-2655-4837-9a75-a394d9f9f35a",
   "metadata": {},
   "source": [
    "------------------------------------------------------------------------------------------------------------------------------"
   ]
  },
  {
   "cell_type": "code",
   "execution_count": 14,
   "id": "572b261c-ba79-45b7-89dd-5c98649464fa",
   "metadata": {},
   "outputs": [
    {
     "name": "stdout",
     "output_type": "stream",
     "text": [
      "Number of Authors: 5554\n",
      "Number of Multiple Publishing Authors: 2214\n",
      "Number of Books: 13525\n"
     ]
    }
   ],
   "source": [
    "# Find out the number of different authors there are in the books table\n",
    "print(f\"Number of Authors: {books['author'].nunique()}\")\n",
    "\n",
    "# Find out how many authors have more than one book in the books table\n",
    "print(f\"Number of Multiple Publishing Authors: {sum(books['author'].value_counts() > 1)}\")\n",
    "\n",
    "# Find out how many books there are in the books table\n",
    "print(f'Number of Books: {books.shape[0]}')"
   ]
  },
  {
   "cell_type": "markdown",
   "id": "f2a5f570-1106-4caa-b8ce-659c6d4acf29",
   "metadata": {},
   "source": [
    "There are too many authors to create dummies that can be inputted into the cosine_similarity function. Therefore, instead, I plan to increase the cosine_similarity of two books by x (to be decided later) if they are written by the same author."
   ]
  },
  {
   "cell_type": "markdown",
   "id": "908f1c42-3a8b-4c3b-bda3-be153e43b833",
   "metadata": {},
   "source": [
    "------------------------------------------------------------------------------------------------------------------------------"
   ]
  },
  {
   "cell_type": "code",
   "execution_count": 15,
   "id": "82f5a5bb-eb6f-448a-bebf-0beca2f1db0d",
   "metadata": {},
   "outputs": [
    {
     "ename": "NameError",
     "evalue": "name 'X' is not defined",
     "output_type": "error",
     "traceback": [
      "\u001b[31m---------------------------------------------------------------------------\u001b[39m",
      "\u001b[31mNameError\u001b[39m                                 Traceback (most recent call last)",
      "\u001b[36mCell\u001b[39m\u001b[36m \u001b[39m\u001b[32mIn[15]\u001b[39m\u001b[32m, line 5\u001b[39m\n\u001b[32m      2\u001b[39m \u001b[38;5;28;01mimport\u001b[39;00m\u001b[38;5;250m \u001b[39m\u001b[34;01mnumpy\u001b[39;00m\u001b[38;5;250m \u001b[39m\u001b[38;5;28;01mas\u001b[39;00m\u001b[38;5;250m \u001b[39m\u001b[34;01mnp\u001b[39;00m\n\u001b[32m      4\u001b[39m \u001b[38;5;66;03m# Step 1: Compute base cosine similarity matrix\u001b[39;00m\n\u001b[32m----> \u001b[39m\u001b[32m5\u001b[39m cos_sim = cosine_similarity(X)\n\u001b[32m      7\u001b[39m \u001b[38;5;66;03m# Step 2: Convert authors to list (same order as X)\u001b[39;00m\n\u001b[32m      8\u001b[39m authors = books[\u001b[33m'\u001b[39m\u001b[33mauthor\u001b[39m\u001b[33m'\u001b[39m].tolist()\n",
      "\u001b[31mNameError\u001b[39m: name 'X' is not defined"
     ]
    }
   ],
   "source": [
    "from sklearn.metrics.pairwise import cosine_similarity\n",
    "import numpy as np\n",
    "\n",
    "# Step 1: Compute base cosine similarity matrix\n",
    "cos_sim = cosine_similarity(X)\n",
    "\n",
    "# Step 2: Convert authors to list (same order as X)\n",
    "authors = books['author'].tolist()\n",
    "\n",
    "# Step 3: Add boost where authors match\n",
    "boost_value = 0.05  # You can experiment with this\n",
    "\n",
    "for i in range(len(authors)):\n",
    "    for j in range(len(authors)):\n",
    "        if i != j and authors[i] == authors[j]:\n",
    "            cos_sim[i][j] += boost_value\n",
    "            # Optional: cap similarity at 1.0\n",
    "            cos_sim[i][j] = min(cos_sim[i][j], 1.0)"
   ]
  }
 ],
 "metadata": {
  "kernelspec": {
   "display_name": "Python 3 (ipykernel)",
   "language": "python",
   "name": "python3"
  },
  "language_info": {
   "codemirror_mode": {
    "name": "ipython",
    "version": 3
   },
   "file_extension": ".py",
   "mimetype": "text/x-python",
   "name": "python",
   "nbconvert_exporter": "python",
   "pygments_lexer": "ipython3",
   "version": "3.11.13"
  }
 },
 "nbformat": 4,
 "nbformat_minor": 5
}
