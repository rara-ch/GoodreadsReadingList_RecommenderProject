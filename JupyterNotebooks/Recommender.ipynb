{
 "cells": [
  {
   "cell_type": "markdown",
   "id": "3db002bf-07ef-4cea-97d2-d8f5a552552f",
   "metadata": {},
   "source": [
    "# Goodreads Reading List Recommender Project (Recommender)"
   ]
  },
  {
   "cell_type": "code",
   "execution_count": 1,
   "id": "e417f34a-5596-41ce-833e-d1fea1a8c92f",
   "metadata": {},
   "outputs": [],
   "source": [
    "# Import basic data libraries\n",
    "import numpy as np\n",
    "import pandas as pd\n",
    "import matplotlib.pyplot as plt\n",
    "import seaborn as sns\n",
    "\n",
    "# Import other functions\n",
    "from sklearn.preprocessing import MinMaxScaler\n",
    "from sklearn.metrics.pairwise import cosine_similarity\n",
    "from sklearn.feature_extraction.text import TfidfVectorizer"
   ]
  },
  {
   "cell_type": "code",
   "execution_count": 2,
   "id": "88448fcb-84a4-41f0-9378-a71216de234c",
   "metadata": {},
   "outputs": [],
   "source": [
    "# Use this cell to toggle between setting display.max_colwidth to None and resetting it\n",
    "\n",
    "# Set max column width to None (no limit) so that I can see the whole text\n",
    "# pd.set_option('display.max_colwidth', None)\n",
    "\n",
    "# Reset the max column width so the pd.DataFrame is more compact\n",
    "pd.reset_option('display.max_colwidth')"
   ]
  },
  {
   "cell_type": "markdown",
   "id": "8aaac7d8-f013-4547-8a03-dfecd944f550",
   "metadata": {},
   "source": [
    "## Importing and Inspecting"
   ]
  },
  {
   "cell_type": "code",
   "execution_count": 3,
   "id": "99bdcaba-b5fb-4bc4-b106-c3dc21a61693",
   "metadata": {},
   "outputs": [
    {
     "name": "stdout",
     "output_type": "stream",
     "text": [
      "(13525, 20)\n"
     ]
    },
    {
     "data": {
      "text/html": [
       "<div>\n",
       "<style scoped>\n",
       "    .dataframe tbody tr th:only-of-type {\n",
       "        vertical-align: middle;\n",
       "    }\n",
       "\n",
       "    .dataframe tbody tr th {\n",
       "        vertical-align: top;\n",
       "    }\n",
       "\n",
       "    .dataframe thead th {\n",
       "        text-align: right;\n",
       "    }\n",
       "</style>\n",
       "<table border=\"1\" class=\"dataframe\">\n",
       "  <thead>\n",
       "    <tr style=\"text-align: right;\">\n",
       "      <th></th>\n",
       "      <th>work_id</th>\n",
       "      <th>isbn</th>\n",
       "      <th>isbn13</th>\n",
       "      <th>original_title</th>\n",
       "      <th>author</th>\n",
       "      <th>original_publication_year</th>\n",
       "      <th>num_pages</th>\n",
       "      <th>description</th>\n",
       "      <th>image_url</th>\n",
       "      <th>reviews_count</th>\n",
       "      <th>text_reviews_count</th>\n",
       "      <th>5_star_ratings</th>\n",
       "      <th>4_star_ratings</th>\n",
       "      <th>3_star_ratings</th>\n",
       "      <th>2_star_ratings</th>\n",
       "      <th>1_star_ratings</th>\n",
       "      <th>ratings_count</th>\n",
       "      <th>avg_rating</th>\n",
       "      <th>avg_days_to_finish</th>\n",
       "      <th>description_clean</th>\n",
       "    </tr>\n",
       "  </thead>\n",
       "  <tbody>\n",
       "    <tr>\n",
       "      <th>0</th>\n",
       "      <td>2919130</td>\n",
       "      <td>1416534601</td>\n",
       "      <td>9781416534600</td>\n",
       "      <td>Nocturnes</td>\n",
       "      <td>John Connolly</td>\n",
       "      <td>2004.0</td>\n",
       "      <td>NaN</td>\n",
       "      <td>NaN</td>\n",
       "      <td>https://s.gr-assets.com/assets/nophoto/book/11...</td>\n",
       "      <td>8820</td>\n",
       "      <td>338</td>\n",
       "      <td>1118</td>\n",
       "      <td>1601</td>\n",
       "      <td>1029</td>\n",
       "      <td>190</td>\n",
       "      <td>58</td>\n",
       "      <td>3996</td>\n",
       "      <td>3.9</td>\n",
       "      <td>18.0</td>\n",
       "      <td></td>\n",
       "    </tr>\n",
       "    <tr>\n",
       "      <th>1</th>\n",
       "      <td>52087333</td>\n",
       "      <td>NaN</td>\n",
       "      <td>NaN</td>\n",
       "      <td>Draw Play</td>\n",
       "      <td>Tia Lewis</td>\n",
       "      <td>2016.0</td>\n",
       "      <td>NaN</td>\n",
       "      <td>Jake:\\nI can't believe my coach assigned me a ...</td>\n",
       "      <td>https://s.gr-assets.com/assets/nophoto/book/11...</td>\n",
       "      <td>2482</td>\n",
       "      <td>204</td>\n",
       "      <td>204</td>\n",
       "      <td>353</td>\n",
       "      <td>274</td>\n",
       "      <td>77</td>\n",
       "      <td>29</td>\n",
       "      <td>937</td>\n",
       "      <td>3.7</td>\n",
       "      <td>4.0</td>\n",
       "      <td>jakei not believe coach assign tutor m field s...</td>\n",
       "    </tr>\n",
       "  </tbody>\n",
       "</table>\n",
       "</div>"
      ],
      "text/plain": [
       "    work_id        isbn         isbn13 original_title         author  \\\n",
       "0   2919130  1416534601  9781416534600      Nocturnes  John Connolly   \n",
       "1  52087333         NaN            NaN      Draw Play      Tia Lewis   \n",
       "\n",
       "   original_publication_year  num_pages  \\\n",
       "0                     2004.0        NaN   \n",
       "1                     2016.0        NaN   \n",
       "\n",
       "                                         description  \\\n",
       "0                                                NaN   \n",
       "1  Jake:\\nI can't believe my coach assigned me a ...   \n",
       "\n",
       "                                           image_url  reviews_count  \\\n",
       "0  https://s.gr-assets.com/assets/nophoto/book/11...           8820   \n",
       "1  https://s.gr-assets.com/assets/nophoto/book/11...           2482   \n",
       "\n",
       "   text_reviews_count  5_star_ratings  4_star_ratings  3_star_ratings  \\\n",
       "0                 338            1118            1601            1029   \n",
       "1                 204             204             353             274   \n",
       "\n",
       "   2_star_ratings  1_star_ratings  ratings_count  avg_rating  \\\n",
       "0             190              58           3996         3.9   \n",
       "1              77              29            937         3.7   \n",
       "\n",
       "   avg_days_to_finish                                  description_clean  \n",
       "0                18.0                                                     \n",
       "1                 4.0  jakei not believe coach assign tutor m field s...  "
      ]
     },
     "execution_count": 3,
     "metadata": {},
     "output_type": "execute_result"
    }
   ],
   "source": [
    "# Read in the cleaned books table\n",
    "books = pd.read_pickle('../Data/books.pkl')\n",
    "\n",
    "# Look at the shape of the books table\n",
    "print(books.shape)\n",
    "\n",
    "# Look at the head of the books table\n",
    "books.head(2)"
   ]
  },
  {
   "cell_type": "code",
   "execution_count": 4,
   "id": "1e93e42b-ec16-44c4-8748-76fc79edd598",
   "metadata": {},
   "outputs": [
    {
     "name": "stdout",
     "output_type": "stream",
     "text": [
      "(13525, 17)\n"
     ]
    },
    {
     "data": {
      "text/html": [
       "<div>\n",
       "<style scoped>\n",
       "    .dataframe tbody tr th:only-of-type {\n",
       "        vertical-align: middle;\n",
       "    }\n",
       "\n",
       "    .dataframe tbody tr th {\n",
       "        vertical-align: top;\n",
       "    }\n",
       "\n",
       "    .dataframe thead th {\n",
       "        text-align: right;\n",
       "    }\n",
       "</style>\n",
       "<table border=\"1\" class=\"dataframe\">\n",
       "  <thead>\n",
       "    <tr style=\"text-align: right;\">\n",
       "      <th></th>\n",
       "      <th>work_id</th>\n",
       "      <th>biography</th>\n",
       "      <th>children</th>\n",
       "      <th>comics</th>\n",
       "      <th>crime</th>\n",
       "      <th>fantasy</th>\n",
       "      <th>fiction</th>\n",
       "      <th>graphic</th>\n",
       "      <th>historical fiction</th>\n",
       "      <th>history</th>\n",
       "      <th>mystery</th>\n",
       "      <th>non-fiction</th>\n",
       "      <th>paranormal</th>\n",
       "      <th>poetry</th>\n",
       "      <th>romance</th>\n",
       "      <th>thriller</th>\n",
       "      <th>young-adult</th>\n",
       "    </tr>\n",
       "  </thead>\n",
       "  <tbody>\n",
       "    <tr>\n",
       "      <th>0</th>\n",
       "      <td>104</td>\n",
       "      <td>1</td>\n",
       "      <td>0</td>\n",
       "      <td>0</td>\n",
       "      <td>0</td>\n",
       "      <td>0</td>\n",
       "      <td>1</td>\n",
       "      <td>0</td>\n",
       "      <td>1</td>\n",
       "      <td>1</td>\n",
       "      <td>0</td>\n",
       "      <td>1</td>\n",
       "      <td>0</td>\n",
       "      <td>0</td>\n",
       "      <td>1</td>\n",
       "      <td>0</td>\n",
       "      <td>0</td>\n",
       "    </tr>\n",
       "    <tr>\n",
       "      <th>1</th>\n",
       "      <td>114</td>\n",
       "      <td>1</td>\n",
       "      <td>0</td>\n",
       "      <td>0</td>\n",
       "      <td>0</td>\n",
       "      <td>1</td>\n",
       "      <td>1</td>\n",
       "      <td>0</td>\n",
       "      <td>1</td>\n",
       "      <td>1</td>\n",
       "      <td>0</td>\n",
       "      <td>0</td>\n",
       "      <td>1</td>\n",
       "      <td>0</td>\n",
       "      <td>1</td>\n",
       "      <td>0</td>\n",
       "      <td>0</td>\n",
       "    </tr>\n",
       "  </tbody>\n",
       "</table>\n",
       "</div>"
      ],
      "text/plain": [
       "   work_id  biography  children  comics  crime  fantasy  fiction  graphic  \\\n",
       "0      104          1         0       0      0        0        1        0   \n",
       "1      114          1         0       0      0        1        1        0   \n",
       "\n",
       "   historical fiction  history  mystery  non-fiction  paranormal  poetry  \\\n",
       "0                   1        1        0            1           0       0   \n",
       "1                   1        1        0            0           1       0   \n",
       "\n",
       "   romance  thriller  young-adult  \n",
       "0        1         0            0  \n",
       "1        1         0            0  "
      ]
     },
     "execution_count": 4,
     "metadata": {},
     "output_type": "execute_result"
    }
   ],
   "source": [
    "# Look at the head of the engineered genres table\n",
    "genres = pd.read_pickle('../Data/genres.pkl')\n",
    "\n",
    "# Look at the shape of the genres table\n",
    "print(genres.shape)\n",
    "\n",
    "# Look at the head of the books table\n",
    "genres.head(2)"
   ]
  },
  {
   "cell_type": "code",
   "execution_count": 5,
   "id": "d337a29f-7bce-46eb-9e34-fa54270eca4f",
   "metadata": {},
   "outputs": [
    {
     "name": "stdout",
     "output_type": "stream",
     "text": [
      "(13525, 13525)\n"
     ]
    },
    {
     "data": {
      "text/html": [
       "<div>\n",
       "<style scoped>\n",
       "    .dataframe tbody tr th:only-of-type {\n",
       "        vertical-align: middle;\n",
       "    }\n",
       "\n",
       "    .dataframe tbody tr th {\n",
       "        vertical-align: top;\n",
       "    }\n",
       "\n",
       "    .dataframe thead th {\n",
       "        text-align: right;\n",
       "    }\n",
       "</style>\n",
       "<table border=\"1\" class=\"dataframe\">\n",
       "  <thead>\n",
       "    <tr style=\"text-align: right;\">\n",
       "      <th></th>\n",
       "      <th>104</th>\n",
       "      <th>114</th>\n",
       "      <th>115</th>\n",
       "      <th>423</th>\n",
       "      <th>434</th>\n",
       "      <th>505</th>\n",
       "      <th>696</th>\n",
       "      <th>797</th>\n",
       "      <th>817</th>\n",
       "      <th>860</th>\n",
       "      <th>...</th>\n",
       "      <th>56825332</th>\n",
       "      <th>56847346</th>\n",
       "      <th>56947505</th>\n",
       "      <th>57104739</th>\n",
       "      <th>57400201</th>\n",
       "      <th>57407230</th>\n",
       "      <th>57414860</th>\n",
       "      <th>57438069</th>\n",
       "      <th>57646853</th>\n",
       "      <th>57717521</th>\n",
       "    </tr>\n",
       "  </thead>\n",
       "  <tbody>\n",
       "    <tr>\n",
       "      <th>104</th>\n",
       "      <td>0</td>\n",
       "      <td>0</td>\n",
       "      <td>0</td>\n",
       "      <td>0</td>\n",
       "      <td>0</td>\n",
       "      <td>0</td>\n",
       "      <td>0</td>\n",
       "      <td>0</td>\n",
       "      <td>0</td>\n",
       "      <td>0</td>\n",
       "      <td>...</td>\n",
       "      <td>0</td>\n",
       "      <td>0</td>\n",
       "      <td>0</td>\n",
       "      <td>0</td>\n",
       "      <td>0</td>\n",
       "      <td>0</td>\n",
       "      <td>0</td>\n",
       "      <td>0</td>\n",
       "      <td>0</td>\n",
       "      <td>0</td>\n",
       "    </tr>\n",
       "    <tr>\n",
       "      <th>114</th>\n",
       "      <td>0</td>\n",
       "      <td>0</td>\n",
       "      <td>0</td>\n",
       "      <td>0</td>\n",
       "      <td>0</td>\n",
       "      <td>0</td>\n",
       "      <td>0</td>\n",
       "      <td>0</td>\n",
       "      <td>0</td>\n",
       "      <td>0</td>\n",
       "      <td>...</td>\n",
       "      <td>0</td>\n",
       "      <td>0</td>\n",
       "      <td>0</td>\n",
       "      <td>0</td>\n",
       "      <td>0</td>\n",
       "      <td>0</td>\n",
       "      <td>0</td>\n",
       "      <td>0</td>\n",
       "      <td>0</td>\n",
       "      <td>0</td>\n",
       "    </tr>\n",
       "  </tbody>\n",
       "</table>\n",
       "<p>2 rows × 13525 columns</p>\n",
       "</div>"
      ],
      "text/plain": [
       "     104  114  115  423  434  505  696  797  817  860  ...  56825332  \\\n",
       "104    0    0    0    0    0    0    0    0    0    0  ...         0   \n",
       "114    0    0    0    0    0    0    0    0    0    0  ...         0   \n",
       "\n",
       "     56847346  56947505  57104739  57400201  57407230  57414860  57438069  \\\n",
       "104         0         0         0         0         0         0         0   \n",
       "114         0         0         0         0         0         0         0   \n",
       "\n",
       "     57646853  57717521  \n",
       "104         0         0  \n",
       "114         0         0  \n",
       "\n",
       "[2 rows x 13525 columns]"
      ]
     },
     "execution_count": 5,
     "metadata": {},
     "output_type": "execute_result"
    }
   ],
   "source": [
    "# Read in the similar_books table\n",
    "similar_books = pd.read_pickle('../Data/similar_books.pkl')\n",
    "\n",
    "# Look at the shape of the books table\n",
    "print(similar_books.shape)\n",
    "\n",
    "# Look at the head of the books table\n",
    "similar_books.head(2)"
   ]
  },
  {
   "cell_type": "markdown",
   "id": "45591a56-c3c1-4f87-9eaa-ec9bdaaebf1c",
   "metadata": {},
   "source": [
    "## Recommenders"
   ]
  },
  {
   "cell_type": "code",
   "execution_count": 6,
   "id": "c28b8a79-106a-46a0-b5cc-8eddc219e788",
   "metadata": {},
   "outputs": [],
   "source": [
    "def get_percentiles(df, column):\n",
    "    \"\"\"\n",
    "    Prints out seven percentiles of an input column from the input DataFrame. Specifically, the 1st, 5th, \n",
    "    25th, 50th, 75th, 95th, and 99th percentiles.\n",
    "    \n",
    "    Inputs:\n",
    "        - df (pd.DataFrame)\n",
    "        - column (str)\n",
    "    Returns:\n",
    "        - None\n",
    "    \"\"\"\n",
    "    percentiles = [0.01, 0.05, 0.25, 0.5, 0.75, 0.95, 0.99]\n",
    "    for percentile in percentiles:\n",
    "        print(f'{column} - {percentile} percentile: {df[column].quantile(percentile)}')"
   ]
  },
  {
   "cell_type": "markdown",
   "id": "ad504257-d6cd-4f29-bb2b-dcbe442d618c",
   "metadata": {},
   "source": [
    "### Content-Based Filtering"
   ]
  },
  {
   "cell_type": "markdown",
   "id": "17e27f0a-bdba-4740-8f19-c98d211053f6",
   "metadata": {},
   "source": [
    "From the EDA section, it was found that original_publication_year and num_pages have extreme outliers. Therefore, I will clip them before scaling to ensure accurate and balanced recommendations."
   ]
  },
  {
   "cell_type": "markdown",
   "id": "b4fe8ada-f134-4c87-bfc3-78803895f66e",
   "metadata": {},
   "source": [
    "------------------------------------------------------------------------------------------------------------------------------"
   ]
  },
  {
   "cell_type": "code",
   "execution_count": 7,
   "id": "2674d800-a8d9-415d-97ab-bc5177c22dc3",
   "metadata": {},
   "outputs": [
    {
     "name": "stdout",
     "output_type": "stream",
     "text": [
      "original_publication_year - 0.01 percentile: 1884.06\n",
      "original_publication_year - 0.05 percentile: 1967.0\n",
      "original_publication_year - 0.25 percentile: 2006.0\n",
      "original_publication_year - 0.5 percentile: 2011.0\n",
      "original_publication_year - 0.75 percentile: 2014.0\n",
      "original_publication_year - 0.95 percentile: 2016.0\n",
      "original_publication_year - 0.99 percentile: 2017.0\n"
     ]
    }
   ],
   "source": [
    "# Check the percentiles for the original_publication_year column since there are outliers\n",
    "get_percentiles(books, 'original_publication_year')"
   ]
  },
  {
   "cell_type": "code",
   "execution_count": 8,
   "id": "1afa0b52-83d6-4beb-bc80-b7ab92a976d8",
   "metadata": {},
   "outputs": [
    {
     "name": "stdout",
     "output_type": "stream",
     "text": [
      "num_pages - 0.01 percentile: 39.94\n",
      "num_pages - 0.05 percentile: 128.0\n",
      "num_pages - 0.25 percentile: 260.0\n",
      "num_pages - 0.5 percentile: 334.0\n",
      "num_pages - 0.75 percentile: 391.0\n",
      "num_pages - 0.95 percentile: 551.2999999999993\n",
      "num_pages - 0.99 percentile: 792.239999999998\n"
     ]
    }
   ],
   "source": [
    "# Check the percentiles for the num_pages column since there are outliers\n",
    "get_percentiles(books, 'num_pages')"
   ]
  },
  {
   "cell_type": "code",
   "execution_count": 9,
   "id": "685480ab-a3ed-4fb2-a01e-f4e4d5797a27",
   "metadata": {},
   "outputs": [],
   "source": [
    "# Create clipped columns of original_publication_year and num_pages to reduce the influence of outliers\n",
    "books['opy_clipped'] = books['original_publication_year'].clip(lower=books['original_publication_year'].quantile(0.05))\n",
    "books['np_clipped'] = books['num_pages'].clip(upper=books['num_pages'].quantile(0.99).round())\n",
    "\n",
    "# Fill the  missing values of the clipped columns with their respective medians of since only <1% and 5% is missing\n",
    "books['np_clipped'] = books['np_clipped'].fillna(books['np_clipped'].median())\n",
    "books['opy_clipped'] = books['opy_clipped'].fillna(books['opy_clipped'].median())"
   ]
  },
  {
   "cell_type": "code",
   "execution_count": 10,
   "id": "7577b2ad-087c-4976-aa52-753e1002344f",
   "metadata": {},
   "outputs": [],
   "source": [
    "# Put the clipped original_publication_year and num_pages columns on a 0-1 scale so it matches the dummy variable scale\n",
    "mms = MinMaxScaler()\n",
    "books_scaled = mms.fit_transform(books[['opy_clipped', 'np_clipped']])\n",
    "books = pd.concat([books, pd.DataFrame(books_scaled, columns=['opy_scaled', 'np_scaled'])], axis=1)"
   ]
  },
  {
   "cell_type": "code",
   "execution_count": 11,
   "id": "736cd46c-9359-498f-b47e-957966c15aa4",
   "metadata": {},
   "outputs": [
    {
     "data": {
      "image/png": "[encoded data removed]",
      "text/plain": [
       "<Figure size 640x480 with 1 Axes>"
      ]
     },
     "metadata": {},
     "output_type": "display_data"
    }
   ],
   "source": [
    "# Look at the distribution of the scaled and clipped columns\n",
    "books[['opy_scaled', 'np_scaled']].plot.hist();"
   ]
  },
  {
   "cell_type": "markdown",
   "id": "4f3c28a2-359d-42ac-afb8-e03d40aa0adc",
   "metadata": {},
   "source": [
    "------------------------------------------------------------------------------------------------------------------------------"
   ]
  },
  {
   "cell_type": "code",
   "execution_count": 12,
   "id": "572b261c-ba79-45b7-89dd-5c98649464fa",
   "metadata": {},
   "outputs": [
    {
     "name": "stdout",
     "output_type": "stream",
     "text": [
      "Number of Authors: 5554\n",
      "Number of Multiple Publishing Authors: 2214\n",
      "Number of Books: 13525\n"
     ]
    }
   ],
   "source": [
    "# Find out the number of different authors there are in the books table\n",
    "print(f\"Number of Authors: {books['author'].nunique()}\")\n",
    "\n",
    "# Find out how many authors have more than one book in the books table\n",
    "print(f\"Number of Multiple Publishing Authors: {sum(books['author'].value_counts() > 1)}\")\n",
    "\n",
    "# Find out how many books there are in the books table\n",
    "print(f'Number of Books: {books.shape[0]}')"
   ]
  },
  {
   "cell_type": "markdown",
   "id": "f2a5f570-1106-4caa-b8ce-659c6d4acf29",
   "metadata": {},
   "source": [
    "There are too many authors to create dummies that can be inputted into the cosine_similarity function. Therefore, instead, I plan to increase the cosine_similarity of two books by x (to be decided later) if they are written by the same author."
   ]
  },
  {
   "cell_type": "markdown",
   "id": "c1e2ef14-8954-4b76-b9b4-842c0bbe98b7",
   "metadata": {},
   "source": [
    "------------------------------------------------------------------------------------------------------------------------------"
   ]
  },
  {
   "cell_type": "code",
   "execution_count": 13,
   "id": "83b040f6-a846-4465-bb7b-500e7f2aaef3",
   "metadata": {},
   "outputs": [
    {
     "data": {
      "text/plain": [
       "array(['come', 'family', 'friend', 'good', 'know', 'leave', 'life',\n",
       "       'like', 'live', 'love', 'man', 'new', 'secret', 'story', 'thing',\n",
       "       'time', 'want', 'way', 'world', 'year', 'young'], dtype=object)"
      ]
     },
     "execution_count": 13,
     "metadata": {},
     "output_type": "execute_result"
    }
   ],
   "source": [
    "tv = TfidfVectorizer(stop_words='english', min_df=0.15)\n",
    "tfidf = tv.fit_transform(books['description_clean'])\n",
    "tfidf_df = pd.DataFrame(tfidf.toarray(), columns=tv.get_feature_names_out(), index=books['work_id'])\n",
    "\n",
    "tv.get_feature_names_out()"
   ]
  },
  {
   "cell_type": "markdown",
   "id": "2e1caadb-284f-4a39-9396-5a3c46dd70aa",
   "metadata": {},
   "source": [
    "------------------------------------------------------------------------------------------------------------------------------"
   ]
  },
  {
   "cell_type": "code",
   "execution_count": 14,
   "id": "7cfc3c82-d66d-4780-9bab-529385c92bbd",
   "metadata": {},
   "outputs": [],
   "source": [
    "# Initialise the input matrix that will be initialised into the cosine_similarity function\n",
    "model_data = genres.copy()\n",
    "\n",
    "# Join the scaled and clipped original_publication_year and num_pages columns to X\n",
    "model_data = (model_data.merge(books[['work_id', 'opy_scaled', 'np_scaled']], on='work_id')\n",
    "                       .merge(tfidf_df.reset_index(), on='work_id')\n",
    "             )\n",
    "\n",
    "# Remove the work_id column from the input matrix\n",
    "work_id = model_data['work_id']\n",
    "model_data = model_data.drop('work_id', axis=1)\n",
    "\n",
    "# Select columns\n",
    "#X = model_data[]\n",
    "#model_data"
   ]
  },
  {
   "cell_type": "code",
   "execution_count": 15,
   "id": "7e63b799-b7c9-4922-a641-c4cbc013d9cd",
   "metadata": {},
   "outputs": [],
   "source": [
    "# Create a cosine similarity matrix that will be used for the similar books recommender \n",
    "cos_sim_matrix = cosine_similarity(model_data)"
   ]
  },
  {
   "cell_type": "markdown",
   "id": "af00936c-e133-4627-8c5f-00ffac2940ef",
   "metadata": {},
   "source": [
    "------------------------------------------------------------------------------------------------------------------------------"
   ]
  },
  {
   "cell_type": "code",
   "execution_count": 16,
   "id": "0bda1bf4-3175-4409-84f9-81082dc9f77f",
   "metadata": {},
   "outputs": [],
   "source": [
    "# Add a booster if the books are similar\n",
    "similar_books_booster = 0.15\n",
    "cos_sim_matrix = cos_sim_matrix + np.array(similar_books.replace(1, similar_books_booster))"
   ]
  },
  {
   "cell_type": "markdown",
   "id": "7d3a97b5-e25e-4bd2-887e-6569c95e689d",
   "metadata": {},
   "source": [
    "------------------------------------------------------------------------------------------------------------------------------"
   ]
  },
  {
   "cell_type": "code",
   "execution_count": 17,
   "id": "243eab3e-0953-4642-ac37-a5fe16ce811e",
   "metadata": {},
   "outputs": [],
   "source": [
    "# Get the authors series (the same order as the model_data work_id index order)\n",
    "authors = pd.DataFrame(work_id).merge(books[['work_id', 'author']])\n",
    "authors.index = authors['work_id']\n",
    "authors = authors.drop('work_id', axis=1)\n",
    "\n",
    "# Initialise a boost value where authors match (can be changed)\n",
    "boost_value = 0.05\n",
    "\n",
    "# Compare all pairs using broadcasting (outer comparison)\n",
    "same_author_matrix = (authors['author'].values[:, None] == authors['author'].values[None, :]).astype(int)\n",
    "same_author = pd.DataFrame(same_author_matrix)\n",
    "\n",
    "# Add a booster if the books are written by the same author\n",
    "same_author_booster = 0.05\n",
    "cos_sim_matrix = cos_sim_matrix + np.array(same_author.replace(1, same_author_booster))"
   ]
  },
  {
   "cell_type": "markdown",
   "id": "b1521a72-58ba-4414-9212-c0db3b306ab8",
   "metadata": {},
   "source": [
    "------------------------------------------------------------------------------------------------------------------------------"
   ]
  },
  {
   "cell_type": "code",
   "execution_count": 18,
   "id": "dbe067c0-dd60-4302-ab8f-4131bd66157b",
   "metadata": {},
   "outputs": [],
   "source": [
    "# Turn the cosine_similarity matrix into a pd.DataFrame\n",
    "cos_sim = pd.DataFrame(cos_sim_matrix, columns=work_id, index=work_id)\n",
    "cos_sim.columns.name = None\n",
    "cos_sim.index.name = None"
   ]
  },
  {
   "cell_type": "code",
   "execution_count": 19,
   "id": "74703e99-4c54-474b-b871-2dc1c7682d75",
   "metadata": {},
   "outputs": [],
   "source": [
    "# Export the cos_sim pd.DataFrame\n",
    "cos_sim.to_pickle('../Data/books_similarity_scores.pkl')"
   ]
  },
  {
   "cell_type": "markdown",
   "id": "94f4cff1-2655-4837-9a75-a394d9f9f35a",
   "metadata": {},
   "source": [
    "------------------------------------------------------------------------------------------------------------------------------"
   ]
  },
  {
   "cell_type": "code",
   "execution_count": 20,
   "id": "acf8c0b4-a953-4e0c-ad22-f0b8d48e12a2",
   "metadata": {},
   "outputs": [],
   "source": [
    "def recommendations(books_list, num_rec=5):\n",
    "    # Get the work_ids of the books in the books_list\n",
    "    work_ids = np.array(books[books['original_title'].isin(books_list)]['work_id'].to_list())\n",
    "\n",
    "    # Get the average similarity_scores of the books in the book list for each book\n",
    "    sim_scores = pd.DataFrame(cos_sim.loc[:, work_ids].mean(axis=1), columns=['mean_sim_score'])\n",
    "\n",
    "    # Get all the information for each book and sort by mean_sim_score\n",
    "    recommendations = (sim_scores.reset_index()\n",
    "                                 .merge(books, left_on='index', right_on='work_id')\n",
    "                                 .sort_values(by='mean_sim_score', ascending=False)\n",
    "                      )\n",
    "\n",
    "    # Remove books from books_list from recommendations and return num_rec rows\n",
    "    recommendations = recommendations[~recommendations['work_id'].isin(work_ids)].iloc[:num_rec, 1:-5]\n",
    "        \n",
    "    return recommendations"
   ]
  },
  {
   "cell_type": "code",
   "execution_count": 21,
   "id": "64a829bf-85f2-48a7-a1de-405e25b9a4e8",
   "metadata": {},
   "outputs": [
    {
     "data": {
      "text/html": [
       "<div>\n",
       "<style scoped>\n",
       "    .dataframe tbody tr th:only-of-type {\n",
       "        vertical-align: middle;\n",
       "    }\n",
       "\n",
       "    .dataframe tbody tr th {\n",
       "        vertical-align: top;\n",
       "    }\n",
       "\n",
       "    .dataframe thead th {\n",
       "        text-align: right;\n",
       "    }\n",
       "</style>\n",
       "<table border=\"1\" class=\"dataframe\">\n",
       "  <thead>\n",
       "    <tr style=\"text-align: right;\">\n",
       "      <th></th>\n",
       "      <th>mean_sim_score</th>\n",
       "      <th>work_id</th>\n",
       "      <th>isbn</th>\n",
       "      <th>isbn13</th>\n",
       "      <th>original_title</th>\n",
       "      <th>author</th>\n",
       "      <th>original_publication_year</th>\n",
       "      <th>num_pages</th>\n",
       "      <th>description</th>\n",
       "      <th>image_url</th>\n",
       "      <th>reviews_count</th>\n",
       "      <th>text_reviews_count</th>\n",
       "      <th>5_star_ratings</th>\n",
       "      <th>4_star_ratings</th>\n",
       "      <th>3_star_ratings</th>\n",
       "      <th>2_star_ratings</th>\n",
       "      <th>1_star_ratings</th>\n",
       "      <th>ratings_count</th>\n",
       "      <th>avg_rating</th>\n",
       "      <th>avg_days_to_finish</th>\n",
       "    </tr>\n",
       "  </thead>\n",
       "  <tbody>\n",
       "    <tr>\n",
       "      <th>2109</th>\n",
       "      <td>0.679350</td>\n",
       "      <td>1431237</td>\n",
       "      <td>006074748X</td>\n",
       "      <td>9780060747480</td>\n",
       "      <td>Airs Above the Ground</td>\n",
       "      <td>Mary  Stewart</td>\n",
       "      <td>1965.0</td>\n",
       "      <td>384.0</td>\n",
       "      <td>Lovely Vanessa March, two years married and ve...</td>\n",
       "      <td>https://s.gr-assets.com/assets/nophoto/book/11...</td>\n",
       "      <td>6325</td>\n",
       "      <td>249</td>\n",
       "      <td>1437</td>\n",
       "      <td>1838</td>\n",
       "      <td>1082</td>\n",
       "      <td>132</td>\n",
       "      <td>15</td>\n",
       "      <td>4504</td>\n",
       "      <td>4.0</td>\n",
       "      <td>4.0</td>\n",
       "    </tr>\n",
       "    <tr>\n",
       "      <th>3325</th>\n",
       "      <td>0.676212</td>\n",
       "      <td>2904854</td>\n",
       "      <td>0373210345</td>\n",
       "      <td>9780373210343</td>\n",
       "      <td>Legacy</td>\n",
       "      <td>Cayla Kluver</td>\n",
       "      <td>2009.0</td>\n",
       "      <td>496.0</td>\n",
       "      <td>I noticed his eyes. They were blue, sharp and ...</td>\n",
       "      <td>https://images.gr-assets.com/books/1301841400m...</td>\n",
       "      <td>20301</td>\n",
       "      <td>876</td>\n",
       "      <td>1747</td>\n",
       "      <td>1908</td>\n",
       "      <td>1577</td>\n",
       "      <td>591</td>\n",
       "      <td>348</td>\n",
       "      <td>6171</td>\n",
       "      <td>3.7</td>\n",
       "      <td>7.0</td>\n",
       "    </tr>\n",
       "    <tr>\n",
       "      <th>2718</th>\n",
       "      <td>0.675472</td>\n",
       "      <td>2162834</td>\n",
       "      <td>0061239755</td>\n",
       "      <td>9780061239755</td>\n",
       "      <td>The Explosionist</td>\n",
       "      <td>Jenny Davidson</td>\n",
       "      <td>2008.0</td>\n",
       "      <td>464.0</td>\n",
       "      <td>The Explosionist (formerly known as Dynamite N...</td>\n",
       "      <td>https://images.gr-assets.com/books/1275095053m...</td>\n",
       "      <td>2166</td>\n",
       "      <td>152</td>\n",
       "      <td>127</td>\n",
       "      <td>197</td>\n",
       "      <td>210</td>\n",
       "      <td>92</td>\n",
       "      <td>30</td>\n",
       "      <td>656</td>\n",
       "      <td>3.5</td>\n",
       "      <td>2.0</td>\n",
       "    </tr>\n",
       "    <tr>\n",
       "      <th>7512</th>\n",
       "      <td>0.674975</td>\n",
       "      <td>18132937</td>\n",
       "      <td>0765331969</td>\n",
       "      <td>9780765331960</td>\n",
       "      <td>A Natural History of Dragons</td>\n",
       "      <td>Marie Brennan</td>\n",
       "      <td>2013.0</td>\n",
       "      <td>334.0</td>\n",
       "      <td>Marie Brennan begins a thrilling new fantasy s...</td>\n",
       "      <td>https://images.gr-assets.com/books/1359770409m...</td>\n",
       "      <td>47851</td>\n",
       "      <td>2242</td>\n",
       "      <td>3360</td>\n",
       "      <td>5702</td>\n",
       "      <td>3513</td>\n",
       "      <td>846</td>\n",
       "      <td>241</td>\n",
       "      <td>13662</td>\n",
       "      <td>3.8</td>\n",
       "      <td>15.0</td>\n",
       "    </tr>\n",
       "    <tr>\n",
       "      <th>1359</th>\n",
       "      <td>0.674743</td>\n",
       "      <td>891863</td>\n",
       "      <td>0553381520</td>\n",
       "      <td>9780553381528</td>\n",
       "      <td>The Beekeeper's Apprentice</td>\n",
       "      <td>Laurie R. King</td>\n",
       "      <td>1994.0</td>\n",
       "      <td>341.0</td>\n",
       "      <td>Long retired, Sherlock Holmes quietly pursues ...</td>\n",
       "      <td>https://s.gr-assets.com/assets/nophoto/book/11...</td>\n",
       "      <td>101752</td>\n",
       "      <td>4965</td>\n",
       "      <td>21766</td>\n",
       "      <td>20280</td>\n",
       "      <td>9620</td>\n",
       "      <td>2327</td>\n",
       "      <td>1106</td>\n",
       "      <td>55099</td>\n",
       "      <td>4.1</td>\n",
       "      <td>23.0</td>\n",
       "    </tr>\n",
       "  </tbody>\n",
       "</table>\n",
       "</div>"
      ],
      "text/plain": [
       "      mean_sim_score   work_id        isbn         isbn13  \\\n",
       "2109        0.679350   1431237  006074748X  9780060747480   \n",
       "3325        0.676212   2904854  0373210345  9780373210343   \n",
       "2718        0.675472   2162834  0061239755  9780061239755   \n",
       "7512        0.674975  18132937  0765331969  9780765331960   \n",
       "1359        0.674743    891863  0553381520  9780553381528   \n",
       "\n",
       "                    original_title          author  original_publication_year  \\\n",
       "2109         Airs Above the Ground   Mary  Stewart                     1965.0   \n",
       "3325                        Legacy    Cayla Kluver                     2009.0   \n",
       "2718              The Explosionist  Jenny Davidson                     2008.0   \n",
       "7512  A Natural History of Dragons   Marie Brennan                     2013.0   \n",
       "1359    The Beekeeper's Apprentice  Laurie R. King                     1994.0   \n",
       "\n",
       "      num_pages                                        description  \\\n",
       "2109      384.0  Lovely Vanessa March, two years married and ve...   \n",
       "3325      496.0  I noticed his eyes. They were blue, sharp and ...   \n",
       "2718      464.0  The Explosionist (formerly known as Dynamite N...   \n",
       "7512      334.0  Marie Brennan begins a thrilling new fantasy s...   \n",
       "1359      341.0  Long retired, Sherlock Holmes quietly pursues ...   \n",
       "\n",
       "                                              image_url  reviews_count  \\\n",
       "2109  https://s.gr-assets.com/assets/nophoto/book/11...           6325   \n",
       "3325  https://images.gr-assets.com/books/1301841400m...          20301   \n",
       "2718  https://images.gr-assets.com/books/1275095053m...           2166   \n",
       "7512  https://images.gr-assets.com/books/1359770409m...          47851   \n",
       "1359  https://s.gr-assets.com/assets/nophoto/book/11...         101752   \n",
       "\n",
       "      text_reviews_count  5_star_ratings  4_star_ratings  3_star_ratings  \\\n",
       "2109                 249            1437            1838            1082   \n",
       "3325                 876            1747            1908            1577   \n",
       "2718                 152             127             197             210   \n",
       "7512                2242            3360            5702            3513   \n",
       "1359                4965           21766           20280            9620   \n",
       "\n",
       "      2_star_ratings  1_star_ratings  ratings_count  avg_rating  \\\n",
       "2109             132              15           4504         4.0   \n",
       "3325             591             348           6171         3.7   \n",
       "2718              92              30            656         3.5   \n",
       "7512             846             241          13662         3.8   \n",
       "1359            2327            1106          55099         4.1   \n",
       "\n",
       "      avg_days_to_finish  \n",
       "2109                 4.0  \n",
       "3325                 7.0  \n",
       "2718                 2.0  \n",
       "7512                15.0  \n",
       "1359                23.0  "
      ]
     },
     "execution_count": 21,
     "metadata": {},
     "output_type": "execute_result"
    }
   ],
   "source": [
    "# Initialise a list of my favourite books for quick testing\n",
    "fav_books = [\n",
    "    'The Silence of the Lambs', \n",
    "    'Anna Karenina', \n",
    "    'Idiot', \n",
    "    'The Catcher in the Rye', \n",
    "    'Nineteen Eighty-Four',\n",
    "    'Lord of the Flies',\n",
    "    'Animal Farm: A Fairy Story',\n",
    "    'The Hunger Games'\n",
    "]\n",
    "\n",
    "recommendations(fav_books)"
   ]
  },
  {
   "cell_type": "code",
   "execution_count": 28,
   "id": "bf42e116-d03c-48f1-abc0-2f38af201a9c",
   "metadata": {},
   "outputs": [
    {
     "data": {
      "text/plain": [
       "104         0.217216\n",
       "114         0.428214\n",
       "115         0.290653\n",
       "423         0.575219\n",
       "434         0.525487\n",
       "              ...   \n",
       "57407230    0.940413\n",
       "57414860    0.327096\n",
       "57438069    0.448833\n",
       "57646853    0.331456\n",
       "57717521    0.811933\n",
       "Name: 2919130, Length: 13525, dtype: float64"
      ]
     },
     "execution_count": 28,
     "metadata": {},
     "output_type": "execute_result"
    }
   ],
   "source": [
    "cos_sim[books.iloc[0]['work_id']]"
   ]
  }
 ],
 "metadata": {
  "kernelspec": {
   "display_name": "Python 3 (ipykernel)",
   "language": "python",
   "name": "python3"
  },
  "language_info": {
   "codemirror_mode": {
    "name": "ipython",
    "version": 3
   },
   "file_extension": ".py",
   "mimetype": "text/x-python",
   "name": "python",
   "nbconvert_exporter": "python",
   "pygments_lexer": "ipython3",
   "version": "3.11.13"
  }
 },
 "nbformat": 4,
 "nbformat_minor": 5
}
